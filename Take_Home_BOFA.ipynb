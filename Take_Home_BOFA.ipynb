{
  "nbformat": 4,
  "nbformat_minor": 0,
  "metadata": {
    "colab": {
      "name": "Take Home_BOFA.ipynb",
      "provenance": []
    },
    "kernelspec": {
      "name": "python3",
      "display_name": "Python 3"
    },
    "language_info": {
      "name": "python"
    }
  },
  "cells": [
    {
      "cell_type": "markdown",
      "source": [
        "Welcome to the NLP Exercise"
      ],
      "metadata": {
        "id": "7TDWORc4vIEw"
      }
    },
    {
      "cell_type": "code",
      "execution_count": 1,
      "metadata": {
        "colab": {
          "base_uri": "https://localhost:8080/"
        },
        "id": "D9OEdtQUO5mp",
        "outputId": "e1332c3d-e3a3-4025-a587-5e1c1d934c5c"
      },
      "outputs": [
        {
          "output_type": "stream",
          "name": "stdout",
          "text": [
            "Cloning into 'nlp_exercise'...\n",
            "remote: Enumerating objects: 12, done.\u001b[K\n",
            "remote: Counting objects: 100% (12/12), done.\u001b[K\n",
            "remote: Compressing objects: 100% (7/7), done.\u001b[K\n",
            "remote: Total 12 (delta 4), reused 12 (delta 4), pack-reused 0 (from 0)\u001b[K\n",
            "Receiving objects: 100% (12/12), 29.81 MiB | 19.33 MiB/s, done.\n",
            "Resolving deltas: 100% (4/4), done.\n"
          ]
        }
      ],
      "source": [
        "!git clone https://github.com/nlpexercise/nlp_exercise.git"
      ]
    },
    {
      "cell_type": "code",
      "source": [
        "# Run this cell to unzip the data directory into your Colab environment\n",
        "!unzip nlp_exercise/data.zip"
      ],
      "metadata": {
        "colab": {
          "base_uri": "https://localhost:8080/"
        },
        "id": "c_SW6jmuPGQm",
        "outputId": "dd7136b9-0edc-4cd4-82c7-205be49f0431"
      },
      "execution_count": 2,
      "outputs": [
        {
          "output_type": "stream",
          "name": "stdout",
          "text": [
            "Archive:  nlp_exercise/data.zip\n",
            "   creating: data/\n",
            "  inflating: __MACOSX/._data         \n",
            "   creating: data/docs/\n",
            "  inflating: __MACOSX/data/._docs    \n",
            "   creating: data/meta_data/\n",
            "  inflating: __MACOSX/data/._meta_data  \n",
            "  inflating: data/docs/docs_5.txt    \n",
            "  inflating: __MACOSX/data/docs/._docs_5.txt  \n",
            "  inflating: data/docs/docs_4.txt    \n",
            "  inflating: __MACOSX/data/docs/._docs_4.txt  \n",
            "  inflating: data/docs/docs_6.txt    \n",
            "  inflating: __MACOSX/data/docs/._docs_6.txt  \n",
            "  inflating: data/docs/docs_7.txt    \n",
            "  inflating: __MACOSX/data/docs/._docs_7.txt  \n",
            "  inflating: data/docs/docs_3.txt    \n",
            "  inflating: __MACOSX/data/docs/._docs_3.txt  \n",
            "  inflating: data/docs/docs_2.txt    \n",
            "  inflating: __MACOSX/data/docs/._docs_2.txt  \n",
            "  inflating: data/docs/docs_0.txt    \n",
            "  inflating: __MACOSX/data/docs/._docs_0.txt  \n",
            "  inflating: data/docs/docs_1.txt    \n",
            "  inflating: __MACOSX/data/docs/._docs_1.txt  \n",
            "  inflating: data/meta_data/docs_6.csv  \n",
            "  inflating: __MACOSX/data/meta_data/._docs_6.csv  \n",
            "  inflating: data/meta_data/docs_7.csv  \n",
            "  inflating: __MACOSX/data/meta_data/._docs_7.csv  \n",
            "  inflating: data/meta_data/docs_5.csv  \n",
            "  inflating: __MACOSX/data/meta_data/._docs_5.csv  \n",
            "  inflating: data/meta_data/docs_4.csv  \n",
            "  inflating: __MACOSX/data/meta_data/._docs_4.csv  \n",
            "  inflating: data/meta_data/docs_0.csv  \n",
            "  inflating: __MACOSX/data/meta_data/._docs_0.csv  \n",
            "  inflating: data/meta_data/docs_1.csv  \n",
            "  inflating: __MACOSX/data/meta_data/._docs_1.csv  \n",
            "  inflating: data/meta_data/docs_3.csv  \n",
            "  inflating: __MACOSX/data/meta_data/._docs_3.csv  \n",
            "  inflating: data/meta_data/docs_2.csv  \n",
            "  inflating: __MACOSX/data/meta_data/._docs_2.csv  \n"
          ]
        }
      ]
    },
    {
      "cell_type": "code",
      "source": [
        "#packages\n",
        "import pandas as pd\n",
        "import nltk\n",
        "nltk.download('stopwords')\n",
        "from nltk.corpus import stopwords\n",
        "from nltk.stem import WordNetLemmatizer\n",
        "nltk.download('wordnet')\n",
        "import re"
      ],
      "metadata": {
        "colab": {
          "base_uri": "https://localhost:8080/"
        },
        "id": "2dFk78NZPKfL",
        "outputId": "49e71ef7-756f-48d3-ff70-b9e6e308a6de"
      },
      "execution_count": 3,
      "outputs": [
        {
          "output_type": "stream",
          "name": "stderr",
          "text": [
            "[nltk_data] Downloading package stopwords to /root/nltk_data...\n",
            "[nltk_data]   Unzipping corpora/stopwords.zip.\n",
            "[nltk_data] Downloading package wordnet to /root/nltk_data...\n"
          ]
        }
      ]
    },
    {
      "cell_type": "code",
      "source": [
        "#importing the data___\n",
        "doc_0= pd.read_csv('/content/data/docs/docs_0.txt', sep= '\\t', header= None)\n",
        "doc_1= pd.read_csv('/content/data/docs/docs_1.txt', sep= '\\t', header= None)\n",
        "doc_2= pd.read_csv('/content/data/docs/docs_2.txt', sep= '\\t', header= None)\n",
        "doc_3= pd.read_csv('/content/data/docs/docs_3.txt', sep= '\\t', header= None)\n",
        "doc_4= pd.read_csv('/content/data/docs/docs_4.txt', sep= '\\t', header= None)\n",
        "doc_5= pd.read_csv('/content/data/docs/docs_5.txt', sep= '\\t', header= None)\n"
      ],
      "metadata": {
        "id": "OwUwjjBAPO-n"
      },
      "execution_count": null,
      "outputs": []
    },
    {
      "cell_type": "code",
      "source": [
        "# Combining dataset__\n",
        "text_train_set=pd.concat([doc_0, doc_1,doc_2,doc_3,doc_4,doc_5])\n",
        "text_train_set.rename( columns={0 :'Id',1: 'text'}, inplace=True )\n",
        "text_train_set.drop(index=text_train_set.index[0], axis=0, inplace=True)\n",
        "text_train_set"
      ],
      "metadata": {
        "colab": {
          "base_uri": "https://localhost:8080/",
          "height": 423
        },
        "id": "wRjAUGeuPXUF",
        "outputId": "7ba78246-27e9-4b38-c932-ae2feaed4e33"
      },
      "execution_count": null,
      "outputs": [
        {
          "output_type": "execute_result",
          "data": {
            "text/plain": [
              "            Id                                               text\n",
              "1          0.0          Current Music:  Could It Be Magic - Do...\n",
              "2          1.0         Hey. This one of the many things I have...\n",
              "3          2.0     Much funny.  2 points.  As mentioned in the...\n",
              "4          3.0     Harpers, Harpers, everywhere.  Harpers, Har...\n",
              "5          4.0     In an earlier post, Johnathan said:   'And ...\n",
              "...        ...                                                ...\n",
              "13204  62520.0               Dammit, I have been invaded by pi...\n",
              "13205  62521.0               I have been reading (ok, more lik...\n",
              "13206  62522.0               I hate any kind of scented shampo...\n",
              "13207  62523.0               I saw the  urlLink Bourne Suprema...\n",
              "13208  62524.0                I wondered what was the right wa...\n",
              "\n",
              "[62525 rows x 2 columns]"
            ],
            "text/html": [
              "\n",
              "  <div id=\"df-9f647cbd-4d74-470f-a6c9-9f28214d8a87\">\n",
              "    <div class=\"colab-df-container\">\n",
              "      <div>\n",
              "<style scoped>\n",
              "    .dataframe tbody tr th:only-of-type {\n",
              "        vertical-align: middle;\n",
              "    }\n",
              "\n",
              "    .dataframe tbody tr th {\n",
              "        vertical-align: top;\n",
              "    }\n",
              "\n",
              "    .dataframe thead th {\n",
              "        text-align: right;\n",
              "    }\n",
              "</style>\n",
              "<table border=\"1\" class=\"dataframe\">\n",
              "  <thead>\n",
              "    <tr style=\"text-align: right;\">\n",
              "      <th></th>\n",
              "      <th>Id</th>\n",
              "      <th>text</th>\n",
              "    </tr>\n",
              "  </thead>\n",
              "  <tbody>\n",
              "    <tr>\n",
              "      <th>1</th>\n",
              "      <td>0.0</td>\n",
              "      <td>Current Music:  Could It Be Magic - Do...</td>\n",
              "    </tr>\n",
              "    <tr>\n",
              "      <th>2</th>\n",
              "      <td>1.0</td>\n",
              "      <td>Hey. This one of the many things I have...</td>\n",
              "    </tr>\n",
              "    <tr>\n",
              "      <th>3</th>\n",
              "      <td>2.0</td>\n",
              "      <td>Much funny.  2 points.  As mentioned in the...</td>\n",
              "    </tr>\n",
              "    <tr>\n",
              "      <th>4</th>\n",
              "      <td>3.0</td>\n",
              "      <td>Harpers, Harpers, everywhere.  Harpers, Har...</td>\n",
              "    </tr>\n",
              "    <tr>\n",
              "      <th>5</th>\n",
              "      <td>4.0</td>\n",
              "      <td>In an earlier post, Johnathan said:   'And ...</td>\n",
              "    </tr>\n",
              "    <tr>\n",
              "      <th>...</th>\n",
              "      <td>...</td>\n",
              "      <td>...</td>\n",
              "    </tr>\n",
              "    <tr>\n",
              "      <th>13204</th>\n",
              "      <td>62520.0</td>\n",
              "      <td>Dammit, I have been invaded by pi...</td>\n",
              "    </tr>\n",
              "    <tr>\n",
              "      <th>13205</th>\n",
              "      <td>62521.0</td>\n",
              "      <td>I have been reading (ok, more lik...</td>\n",
              "    </tr>\n",
              "    <tr>\n",
              "      <th>13206</th>\n",
              "      <td>62522.0</td>\n",
              "      <td>I hate any kind of scented shampo...</td>\n",
              "    </tr>\n",
              "    <tr>\n",
              "      <th>13207</th>\n",
              "      <td>62523.0</td>\n",
              "      <td>I saw the  urlLink Bourne Suprema...</td>\n",
              "    </tr>\n",
              "    <tr>\n",
              "      <th>13208</th>\n",
              "      <td>62524.0</td>\n",
              "      <td>I wondered what was the right wa...</td>\n",
              "    </tr>\n",
              "  </tbody>\n",
              "</table>\n",
              "<p>62525 rows × 2 columns</p>\n",
              "</div>\n",
              "      <button class=\"colab-df-convert\" onclick=\"convertToInteractive('df-9f647cbd-4d74-470f-a6c9-9f28214d8a87')\"\n",
              "              title=\"Convert this dataframe to an interactive table.\"\n",
              "              style=\"display:none;\">\n",
              "        \n",
              "  <svg xmlns=\"http://www.w3.org/2000/svg\" height=\"24px\"viewBox=\"0 0 24 24\"\n",
              "       width=\"24px\">\n",
              "    <path d=\"M0 0h24v24H0V0z\" fill=\"none\"/>\n",
              "    <path d=\"M18.56 5.44l.94 2.06.94-2.06 2.06-.94-2.06-.94-.94-2.06-.94 2.06-2.06.94zm-11 1L8.5 8.5l.94-2.06 2.06-.94-2.06-.94L8.5 2.5l-.94 2.06-2.06.94zm10 10l.94 2.06.94-2.06 2.06-.94-2.06-.94-.94-2.06-.94 2.06-2.06.94z\"/><path d=\"M17.41 7.96l-1.37-1.37c-.4-.4-.92-.59-1.43-.59-.52 0-1.04.2-1.43.59L10.3 9.45l-7.72 7.72c-.78.78-.78 2.05 0 2.83L4 21.41c.39.39.9.59 1.41.59.51 0 1.02-.2 1.41-.59l7.78-7.78 2.81-2.81c.8-.78.8-2.07 0-2.86zM5.41 20L4 18.59l7.72-7.72 1.47 1.35L5.41 20z\"/>\n",
              "  </svg>\n",
              "      </button>\n",
              "      \n",
              "  <style>\n",
              "    .colab-df-container {\n",
              "      display:flex;\n",
              "      flex-wrap:wrap;\n",
              "      gap: 12px;\n",
              "    }\n",
              "\n",
              "    .colab-df-convert {\n",
              "      background-color: #E8F0FE;\n",
              "      border: none;\n",
              "      border-radius: 50%;\n",
              "      cursor: pointer;\n",
              "      display: none;\n",
              "      fill: #1967D2;\n",
              "      height: 32px;\n",
              "      padding: 0 0 0 0;\n",
              "      width: 32px;\n",
              "    }\n",
              "\n",
              "    .colab-df-convert:hover {\n",
              "      background-color: #E2EBFA;\n",
              "      box-shadow: 0px 1px 2px rgba(60, 64, 67, 0.3), 0px 1px 3px 1px rgba(60, 64, 67, 0.15);\n",
              "      fill: #174EA6;\n",
              "    }\n",
              "\n",
              "    [theme=dark] .colab-df-convert {\n",
              "      background-color: #3B4455;\n",
              "      fill: #D2E3FC;\n",
              "    }\n",
              "\n",
              "    [theme=dark] .colab-df-convert:hover {\n",
              "      background-color: #434B5C;\n",
              "      box-shadow: 0px 1px 3px 1px rgba(0, 0, 0, 0.15);\n",
              "      filter: drop-shadow(0px 1px 2px rgba(0, 0, 0, 0.3));\n",
              "      fill: #FFFFFF;\n",
              "    }\n",
              "  </style>\n",
              "\n",
              "      <script>\n",
              "        const buttonEl =\n",
              "          document.querySelector('#df-9f647cbd-4d74-470f-a6c9-9f28214d8a87 button.colab-df-convert');\n",
              "        buttonEl.style.display =\n",
              "          google.colab.kernel.accessAllowed ? 'block' : 'none';\n",
              "\n",
              "        async function convertToInteractive(key) {\n",
              "          const element = document.querySelector('#df-9f647cbd-4d74-470f-a6c9-9f28214d8a87');\n",
              "          const dataTable =\n",
              "            await google.colab.kernel.invokeFunction('convertToInteractive',\n",
              "                                                     [key], {});\n",
              "          if (!dataTable) return;\n",
              "\n",
              "          const docLinkHtml = 'Like what you see? Visit the ' +\n",
              "            '<a target=\"_blank\" href=https://colab.research.google.com/notebooks/data_table.ipynb>data table notebook</a>'\n",
              "            + ' to learn more about interactive tables.';\n",
              "          element.innerHTML = '';\n",
              "          dataTable['output_type'] = 'display_data';\n",
              "          await google.colab.output.renderOutput(dataTable, element);\n",
              "          const docLink = document.createElement('div');\n",
              "          docLink.innerHTML = docLinkHtml;\n",
              "          element.appendChild(docLink);\n",
              "        }\n",
              "      </script>\n",
              "    </div>\n",
              "  </div>\n",
              "  "
            ]
          },
          "metadata": {},
          "execution_count": 53
        }
      ]
    },
    {
      "cell_type": "code",
      "source": [
        "#Importing meta data to get the topic- y values and removing columns that we donot require in later steps\n",
        "doc0_topic= pd.read_csv('/content/data/meta_data/docs_0.csv')\n",
        "doc1_topic= pd.read_csv('/content/data/meta_data/docs_1.csv')\n",
        "doc2_topic= pd.read_csv('/content/data/meta_data/docs_2.csv')\n",
        "doc3_topic= pd.read_csv('/content/data/meta_data/docs_3.csv')\n",
        "doc4_topic= pd.read_csv('/content/data/meta_data/docs_4.csv')\n",
        "doc5_topic= pd.read_csv('/content/data/meta_data/docs_5.csv')\n",
        "doc0_topic=doc0_topic.drop(['gender','age','sign', 'date'], axis=1)\n",
        "doc1_topic=doc1_topic.drop(['gender','age','sign', 'date'], axis=1)\n",
        "doc2_topic=doc2_topic.drop(['gender','age','sign', 'date'], axis=1)\n",
        "doc3_topic=doc3_topic.drop(['gender','age','sign', 'date'], axis=1)\n",
        "doc4_topic=doc4_topic.drop(['gender','age','sign', 'date'], axis=1)\n",
        "doc5_topic=doc5_topic.drop(['gender','age','sign', 'date'], axis=1)\n",
        "topic_train_set=pd.concat([doc0_topic, doc1_topic,doc2_topic,doc3_topic,doc4_topic,doc5_topic])\n",
        "topic_train_set.rename( columns={'Unnamed: 0':'Id'}, inplace=True )\n",
        "topic_train_set"
      ],
      "metadata": {
        "colab": {
          "base_uri": "https://localhost:8080/",
          "height": 423
        },
        "id": "GWT15TTqPmgt",
        "outputId": "a183ffb2-6913-41b8-e77c-59c78f768ada"
      },
      "execution_count": null,
      "outputs": [
        {
          "output_type": "execute_result",
          "data": {
            "text/plain": [
              "          Id       topic\n",
              "0          0        Arts\n",
              "1          1        Arts\n",
              "2          2  Technology\n",
              "3          3  Technology\n",
              "4          4  Technology\n",
              "...      ...         ...\n",
              "13203  62520  Technology\n",
              "13204  62521  Technology\n",
              "13205  62522  Technology\n",
              "13206  62523  Technology\n",
              "13207  62524  Technology\n",
              "\n",
              "[62525 rows x 2 columns]"
            ],
            "text/html": [
              "\n",
              "  <div id=\"df-69e0cf30-10cb-473e-b293-f6e20e6a1306\">\n",
              "    <div class=\"colab-df-container\">\n",
              "      <div>\n",
              "<style scoped>\n",
              "    .dataframe tbody tr th:only-of-type {\n",
              "        vertical-align: middle;\n",
              "    }\n",
              "\n",
              "    .dataframe tbody tr th {\n",
              "        vertical-align: top;\n",
              "    }\n",
              "\n",
              "    .dataframe thead th {\n",
              "        text-align: right;\n",
              "    }\n",
              "</style>\n",
              "<table border=\"1\" class=\"dataframe\">\n",
              "  <thead>\n",
              "    <tr style=\"text-align: right;\">\n",
              "      <th></th>\n",
              "      <th>Id</th>\n",
              "      <th>topic</th>\n",
              "    </tr>\n",
              "  </thead>\n",
              "  <tbody>\n",
              "    <tr>\n",
              "      <th>0</th>\n",
              "      <td>0</td>\n",
              "      <td>Arts</td>\n",
              "    </tr>\n",
              "    <tr>\n",
              "      <th>1</th>\n",
              "      <td>1</td>\n",
              "      <td>Arts</td>\n",
              "    </tr>\n",
              "    <tr>\n",
              "      <th>2</th>\n",
              "      <td>2</td>\n",
              "      <td>Technology</td>\n",
              "    </tr>\n",
              "    <tr>\n",
              "      <th>3</th>\n",
              "      <td>3</td>\n",
              "      <td>Technology</td>\n",
              "    </tr>\n",
              "    <tr>\n",
              "      <th>4</th>\n",
              "      <td>4</td>\n",
              "      <td>Technology</td>\n",
              "    </tr>\n",
              "    <tr>\n",
              "      <th>...</th>\n",
              "      <td>...</td>\n",
              "      <td>...</td>\n",
              "    </tr>\n",
              "    <tr>\n",
              "      <th>13203</th>\n",
              "      <td>62520</td>\n",
              "      <td>Technology</td>\n",
              "    </tr>\n",
              "    <tr>\n",
              "      <th>13204</th>\n",
              "      <td>62521</td>\n",
              "      <td>Technology</td>\n",
              "    </tr>\n",
              "    <tr>\n",
              "      <th>13205</th>\n",
              "      <td>62522</td>\n",
              "      <td>Technology</td>\n",
              "    </tr>\n",
              "    <tr>\n",
              "      <th>13206</th>\n",
              "      <td>62523</td>\n",
              "      <td>Technology</td>\n",
              "    </tr>\n",
              "    <tr>\n",
              "      <th>13207</th>\n",
              "      <td>62524</td>\n",
              "      <td>Technology</td>\n",
              "    </tr>\n",
              "  </tbody>\n",
              "</table>\n",
              "<p>62525 rows × 2 columns</p>\n",
              "</div>\n",
              "      <button class=\"colab-df-convert\" onclick=\"convertToInteractive('df-69e0cf30-10cb-473e-b293-f6e20e6a1306')\"\n",
              "              title=\"Convert this dataframe to an interactive table.\"\n",
              "              style=\"display:none;\">\n",
              "        \n",
              "  <svg xmlns=\"http://www.w3.org/2000/svg\" height=\"24px\"viewBox=\"0 0 24 24\"\n",
              "       width=\"24px\">\n",
              "    <path d=\"M0 0h24v24H0V0z\" fill=\"none\"/>\n",
              "    <path d=\"M18.56 5.44l.94 2.06.94-2.06 2.06-.94-2.06-.94-.94-2.06-.94 2.06-2.06.94zm-11 1L8.5 8.5l.94-2.06 2.06-.94-2.06-.94L8.5 2.5l-.94 2.06-2.06.94zm10 10l.94 2.06.94-2.06 2.06-.94-2.06-.94-.94-2.06-.94 2.06-2.06.94z\"/><path d=\"M17.41 7.96l-1.37-1.37c-.4-.4-.92-.59-1.43-.59-.52 0-1.04.2-1.43.59L10.3 9.45l-7.72 7.72c-.78.78-.78 2.05 0 2.83L4 21.41c.39.39.9.59 1.41.59.51 0 1.02-.2 1.41-.59l7.78-7.78 2.81-2.81c.8-.78.8-2.07 0-2.86zM5.41 20L4 18.59l7.72-7.72 1.47 1.35L5.41 20z\"/>\n",
              "  </svg>\n",
              "      </button>\n",
              "      \n",
              "  <style>\n",
              "    .colab-df-container {\n",
              "      display:flex;\n",
              "      flex-wrap:wrap;\n",
              "      gap: 12px;\n",
              "    }\n",
              "\n",
              "    .colab-df-convert {\n",
              "      background-color: #E8F0FE;\n",
              "      border: none;\n",
              "      border-radius: 50%;\n",
              "      cursor: pointer;\n",
              "      display: none;\n",
              "      fill: #1967D2;\n",
              "      height: 32px;\n",
              "      padding: 0 0 0 0;\n",
              "      width: 32px;\n",
              "    }\n",
              "\n",
              "    .colab-df-convert:hover {\n",
              "      background-color: #E2EBFA;\n",
              "      box-shadow: 0px 1px 2px rgba(60, 64, 67, 0.3), 0px 1px 3px 1px rgba(60, 64, 67, 0.15);\n",
              "      fill: #174EA6;\n",
              "    }\n",
              "\n",
              "    [theme=dark] .colab-df-convert {\n",
              "      background-color: #3B4455;\n",
              "      fill: #D2E3FC;\n",
              "    }\n",
              "\n",
              "    [theme=dark] .colab-df-convert:hover {\n",
              "      background-color: #434B5C;\n",
              "      box-shadow: 0px 1px 3px 1px rgba(0, 0, 0, 0.15);\n",
              "      filter: drop-shadow(0px 1px 2px rgba(0, 0, 0, 0.3));\n",
              "      fill: #FFFFFF;\n",
              "    }\n",
              "  </style>\n",
              "\n",
              "      <script>\n",
              "        const buttonEl =\n",
              "          document.querySelector('#df-69e0cf30-10cb-473e-b293-f6e20e6a1306 button.colab-df-convert');\n",
              "        buttonEl.style.display =\n",
              "          google.colab.kernel.accessAllowed ? 'block' : 'none';\n",
              "\n",
              "        async function convertToInteractive(key) {\n",
              "          const element = document.querySelector('#df-69e0cf30-10cb-473e-b293-f6e20e6a1306');\n",
              "          const dataTable =\n",
              "            await google.colab.kernel.invokeFunction('convertToInteractive',\n",
              "                                                     [key], {});\n",
              "          if (!dataTable) return;\n",
              "\n",
              "          const docLinkHtml = 'Like what you see? Visit the ' +\n",
              "            '<a target=\"_blank\" href=https://colab.research.google.com/notebooks/data_table.ipynb>data table notebook</a>'\n",
              "            + ' to learn more about interactive tables.';\n",
              "          element.innerHTML = '';\n",
              "          dataTable['output_type'] = 'display_data';\n",
              "          await google.colab.output.renderOutput(dataTable, element);\n",
              "          const docLink = document.createElement('div');\n",
              "          docLink.innerHTML = docLinkHtml;\n",
              "          element.appendChild(docLink);\n",
              "        }\n",
              "      </script>\n",
              "    </div>\n",
              "  </div>\n",
              "  "
            ]
          },
          "metadata": {},
          "execution_count": 54
        }
      ]
    },
    {
      "cell_type": "code",
      "source": [
        "#Merging topic and text together\n",
        "df=pd.merge(text_train_set, topic_train_set, on='Id')\n",
        "df=df.drop(['Id'], axis=1)\n",
        "df"
      ],
      "metadata": {
        "colab": {
          "base_uri": "https://localhost:8080/",
          "height": 423
        },
        "id": "9vjLvIrCQEtZ",
        "outputId": "5eb5c085-fe83-4253-8ccb-a07829466318"
      },
      "execution_count": null,
      "outputs": [
        {
          "output_type": "execute_result",
          "data": {
            "text/plain": [
              "                                                    text       topic\n",
              "0              Current Music:  Could It Be Magic - Do...        Arts\n",
              "1             Hey. This one of the many things I have...        Arts\n",
              "2         Much funny.  2 points.  As mentioned in the...  Technology\n",
              "3         Harpers, Harpers, everywhere.  Harpers, Har...  Technology\n",
              "4         In an earlier post, Johnathan said:   'And ...  Technology\n",
              "...                                                  ...         ...\n",
              "62520               Dammit, I have been invaded by pi...  Technology\n",
              "62521               I have been reading (ok, more lik...  Technology\n",
              "62522               I hate any kind of scented shampo...  Technology\n",
              "62523               I saw the  urlLink Bourne Suprema...  Technology\n",
              "62524                I wondered what was the right wa...  Technology\n",
              "\n",
              "[62525 rows x 2 columns]"
            ],
            "text/html": [
              "\n",
              "  <div id=\"df-691b8cfd-0f77-4c21-b4cb-1d7c39e1ecf7\">\n",
              "    <div class=\"colab-df-container\">\n",
              "      <div>\n",
              "<style scoped>\n",
              "    .dataframe tbody tr th:only-of-type {\n",
              "        vertical-align: middle;\n",
              "    }\n",
              "\n",
              "    .dataframe tbody tr th {\n",
              "        vertical-align: top;\n",
              "    }\n",
              "\n",
              "    .dataframe thead th {\n",
              "        text-align: right;\n",
              "    }\n",
              "</style>\n",
              "<table border=\"1\" class=\"dataframe\">\n",
              "  <thead>\n",
              "    <tr style=\"text-align: right;\">\n",
              "      <th></th>\n",
              "      <th>text</th>\n",
              "      <th>topic</th>\n",
              "    </tr>\n",
              "  </thead>\n",
              "  <tbody>\n",
              "    <tr>\n",
              "      <th>0</th>\n",
              "      <td>Current Music:  Could It Be Magic - Do...</td>\n",
              "      <td>Arts</td>\n",
              "    </tr>\n",
              "    <tr>\n",
              "      <th>1</th>\n",
              "      <td>Hey. This one of the many things I have...</td>\n",
              "      <td>Arts</td>\n",
              "    </tr>\n",
              "    <tr>\n",
              "      <th>2</th>\n",
              "      <td>Much funny.  2 points.  As mentioned in the...</td>\n",
              "      <td>Technology</td>\n",
              "    </tr>\n",
              "    <tr>\n",
              "      <th>3</th>\n",
              "      <td>Harpers, Harpers, everywhere.  Harpers, Har...</td>\n",
              "      <td>Technology</td>\n",
              "    </tr>\n",
              "    <tr>\n",
              "      <th>4</th>\n",
              "      <td>In an earlier post, Johnathan said:   'And ...</td>\n",
              "      <td>Technology</td>\n",
              "    </tr>\n",
              "    <tr>\n",
              "      <th>...</th>\n",
              "      <td>...</td>\n",
              "      <td>...</td>\n",
              "    </tr>\n",
              "    <tr>\n",
              "      <th>62520</th>\n",
              "      <td>Dammit, I have been invaded by pi...</td>\n",
              "      <td>Technology</td>\n",
              "    </tr>\n",
              "    <tr>\n",
              "      <th>62521</th>\n",
              "      <td>I have been reading (ok, more lik...</td>\n",
              "      <td>Technology</td>\n",
              "    </tr>\n",
              "    <tr>\n",
              "      <th>62522</th>\n",
              "      <td>I hate any kind of scented shampo...</td>\n",
              "      <td>Technology</td>\n",
              "    </tr>\n",
              "    <tr>\n",
              "      <th>62523</th>\n",
              "      <td>I saw the  urlLink Bourne Suprema...</td>\n",
              "      <td>Technology</td>\n",
              "    </tr>\n",
              "    <tr>\n",
              "      <th>62524</th>\n",
              "      <td>I wondered what was the right wa...</td>\n",
              "      <td>Technology</td>\n",
              "    </tr>\n",
              "  </tbody>\n",
              "</table>\n",
              "<p>62525 rows × 2 columns</p>\n",
              "</div>\n",
              "      <button class=\"colab-df-convert\" onclick=\"convertToInteractive('df-691b8cfd-0f77-4c21-b4cb-1d7c39e1ecf7')\"\n",
              "              title=\"Convert this dataframe to an interactive table.\"\n",
              "              style=\"display:none;\">\n",
              "        \n",
              "  <svg xmlns=\"http://www.w3.org/2000/svg\" height=\"24px\"viewBox=\"0 0 24 24\"\n",
              "       width=\"24px\">\n",
              "    <path d=\"M0 0h24v24H0V0z\" fill=\"none\"/>\n",
              "    <path d=\"M18.56 5.44l.94 2.06.94-2.06 2.06-.94-2.06-.94-.94-2.06-.94 2.06-2.06.94zm-11 1L8.5 8.5l.94-2.06 2.06-.94-2.06-.94L8.5 2.5l-.94 2.06-2.06.94zm10 10l.94 2.06.94-2.06 2.06-.94-2.06-.94-.94-2.06-.94 2.06-2.06.94z\"/><path d=\"M17.41 7.96l-1.37-1.37c-.4-.4-.92-.59-1.43-.59-.52 0-1.04.2-1.43.59L10.3 9.45l-7.72 7.72c-.78.78-.78 2.05 0 2.83L4 21.41c.39.39.9.59 1.41.59.51 0 1.02-.2 1.41-.59l7.78-7.78 2.81-2.81c.8-.78.8-2.07 0-2.86zM5.41 20L4 18.59l7.72-7.72 1.47 1.35L5.41 20z\"/>\n",
              "  </svg>\n",
              "      </button>\n",
              "      \n",
              "  <style>\n",
              "    .colab-df-container {\n",
              "      display:flex;\n",
              "      flex-wrap:wrap;\n",
              "      gap: 12px;\n",
              "    }\n",
              "\n",
              "    .colab-df-convert {\n",
              "      background-color: #E8F0FE;\n",
              "      border: none;\n",
              "      border-radius: 50%;\n",
              "      cursor: pointer;\n",
              "      display: none;\n",
              "      fill: #1967D2;\n",
              "      height: 32px;\n",
              "      padding: 0 0 0 0;\n",
              "      width: 32px;\n",
              "    }\n",
              "\n",
              "    .colab-df-convert:hover {\n",
              "      background-color: #E2EBFA;\n",
              "      box-shadow: 0px 1px 2px rgba(60, 64, 67, 0.3), 0px 1px 3px 1px rgba(60, 64, 67, 0.15);\n",
              "      fill: #174EA6;\n",
              "    }\n",
              "\n",
              "    [theme=dark] .colab-df-convert {\n",
              "      background-color: #3B4455;\n",
              "      fill: #D2E3FC;\n",
              "    }\n",
              "\n",
              "    [theme=dark] .colab-df-convert:hover {\n",
              "      background-color: #434B5C;\n",
              "      box-shadow: 0px 1px 3px 1px rgba(0, 0, 0, 0.15);\n",
              "      filter: drop-shadow(0px 1px 2px rgba(0, 0, 0, 0.3));\n",
              "      fill: #FFFFFF;\n",
              "    }\n",
              "  </style>\n",
              "\n",
              "      <script>\n",
              "        const buttonEl =\n",
              "          document.querySelector('#df-691b8cfd-0f77-4c21-b4cb-1d7c39e1ecf7 button.colab-df-convert');\n",
              "        buttonEl.style.display =\n",
              "          google.colab.kernel.accessAllowed ? 'block' : 'none';\n",
              "\n",
              "        async function convertToInteractive(key) {\n",
              "          const element = document.querySelector('#df-691b8cfd-0f77-4c21-b4cb-1d7c39e1ecf7');\n",
              "          const dataTable =\n",
              "            await google.colab.kernel.invokeFunction('convertToInteractive',\n",
              "                                                     [key], {});\n",
              "          if (!dataTable) return;\n",
              "\n",
              "          const docLinkHtml = 'Like what you see? Visit the ' +\n",
              "            '<a target=\"_blank\" href=https://colab.research.google.com/notebooks/data_table.ipynb>data table notebook</a>'\n",
              "            + ' to learn more about interactive tables.';\n",
              "          element.innerHTML = '';\n",
              "          dataTable['output_type'] = 'display_data';\n",
              "          await google.colab.output.renderOutput(dataTable, element);\n",
              "          const docLink = document.createElement('div');\n",
              "          docLink.innerHTML = docLinkHtml;\n",
              "          element.appendChild(docLink);\n",
              "        }\n",
              "      </script>\n",
              "    </div>\n",
              "  </div>\n",
              "  "
            ]
          },
          "metadata": {},
          "execution_count": 55
        }
      ]
    },
    {
      "cell_type": "code",
      "source": [
        "#Checking whether the target data are imbalanced or balanced?\n",
        "display(df.topic.unique())\n",
        "display(df.shape) # Number of rows (instances) and columns in the dataset 62525, 2)\n",
        "df[\"topic\"].value_counts()/df.shape[0]"
      ],
      "metadata": {
        "colab": {
          "base_uri": "https://localhost:8080/",
          "height": 104
        },
        "id": "yLBblj14QJf-",
        "outputId": "cc7ec08b-431f-488f-ad6f-0b61d4d0424f"
      },
      "execution_count": null,
      "outputs": [
        {
          "output_type": "display_data",
          "data": {
            "text/plain": [
              "array(['Arts', 'Technology'], dtype=object)"
            ]
          },
          "metadata": {}
        },
        {
          "output_type": "display_data",
          "data": {
            "text/plain": [
              "(62525, 2)"
            ]
          },
          "metadata": {}
        },
        {
          "output_type": "execute_result",
          "data": {
            "text/plain": [
              "Technology    0.557377\n",
              "Arts          0.442623\n",
              "Name: topic, dtype: float64"
            ]
          },
          "metadata": {},
          "execution_count": 56
        }
      ]
    },
    {
      "cell_type": "code",
      "source": [
        "df[\"topic\"].value_counts().plot.bar()"
      ],
      "metadata": {
        "colab": {
          "base_uri": "https://localhost:8080/",
          "height": 328
        },
        "id": "VwymjdnyVVO5",
        "outputId": "36dde0f7-404a-4602-dfec-58a01a725501"
      },
      "execution_count": null,
      "outputs": [
        {
          "output_type": "execute_result",
          "data": {
            "text/plain": [
              "<matplotlib.axes._subplots.AxesSubplot at 0x7f62b89a3b90>"
            ]
          },
          "metadata": {},
          "execution_count": 57
        },
        {
          "output_type": "display_data",
          "data": {
            "text/plain": [
              "<Figure size 432x288 with 1 Axes>"
            ],
            "image/png": "[encoded data removed]"
          },
          "metadata": {
            "needs_background": "light"
          }
        }
      ]
    },
    {
      "cell_type": "code",
      "source": [
        "# convert label to a numerical variable\n",
        "df['topic'] = df.topic.map({'Arts':1, 'Technology':0})\n",
        "display(df)\n",
        "df.shape"
      ],
      "metadata": {
        "colab": {
          "base_uri": "https://localhost:8080/",
          "height": 441
        },
        "id": "CvDHe7vgQYS-",
        "outputId": "8fb4224a-59e0-4edf-d251-ec6838d50080"
      },
      "execution_count": null,
      "outputs": [
        {
          "output_type": "display_data",
          "data": {
            "text/plain": [
              "                                                    text  topic\n",
              "0              Current Music:  Could It Be Magic - Do...      1\n",
              "1             Hey. This one of the many things I have...      1\n",
              "2         Much funny.  2 points.  As mentioned in the...      0\n",
              "3         Harpers, Harpers, everywhere.  Harpers, Har...      0\n",
              "4         In an earlier post, Johnathan said:   'And ...      0\n",
              "...                                                  ...    ...\n",
              "62520               Dammit, I have been invaded by pi...      0\n",
              "62521               I have been reading (ok, more lik...      0\n",
              "62522               I hate any kind of scented shampo...      0\n",
              "62523               I saw the  urlLink Bourne Suprema...      0\n",
              "62524                I wondered what was the right wa...      0\n",
              "\n",
              "[62525 rows x 2 columns]"
            ],
            "text/html": [
              "\n",
              "  <div id=\"df-cf2a8d51-be3e-49b7-aab4-89177b3c3497\">\n",
              "    <div class=\"colab-df-container\">\n",
              "      <div>\n",
              "<style scoped>\n",
              "    .dataframe tbody tr th:only-of-type {\n",
              "        vertical-align: middle;\n",
              "    }\n",
              "\n",
              "    .dataframe tbody tr th {\n",
              "        vertical-align: top;\n",
              "    }\n",
              "\n",
              "    .dataframe thead th {\n",
              "        text-align: right;\n",
              "    }\n",
              "</style>\n",
              "<table border=\"1\" class=\"dataframe\">\n",
              "  <thead>\n",
              "    <tr style=\"text-align: right;\">\n",
              "      <th></th>\n",
              "      <th>text</th>\n",
              "      <th>topic</th>\n",
              "    </tr>\n",
              "  </thead>\n",
              "  <tbody>\n",
              "    <tr>\n",
              "      <th>0</th>\n",
              "      <td>Current Music:  Could It Be Magic - Do...</td>\n",
              "      <td>1</td>\n",
              "    </tr>\n",
              "    <tr>\n",
              "      <th>1</th>\n",
              "      <td>Hey. This one of the many things I have...</td>\n",
              "      <td>1</td>\n",
              "    </tr>\n",
              "    <tr>\n",
              "      <th>2</th>\n",
              "      <td>Much funny.  2 points.  As mentioned in the...</td>\n",
              "      <td>0</td>\n",
              "    </tr>\n",
              "    <tr>\n",
              "      <th>3</th>\n",
              "      <td>Harpers, Harpers, everywhere.  Harpers, Har...</td>\n",
              "      <td>0</td>\n",
              "    </tr>\n",
              "    <tr>\n",
              "      <th>4</th>\n",
              "      <td>In an earlier post, Johnathan said:   'And ...</td>\n",
              "      <td>0</td>\n",
              "    </tr>\n",
              "    <tr>\n",
              "      <th>...</th>\n",
              "      <td>...</td>\n",
              "      <td>...</td>\n",
              "    </tr>\n",
              "    <tr>\n",
              "      <th>62520</th>\n",
              "      <td>Dammit, I have been invaded by pi...</td>\n",
              "      <td>0</td>\n",
              "    </tr>\n",
              "    <tr>\n",
              "      <th>62521</th>\n",
              "      <td>I have been reading (ok, more lik...</td>\n",
              "      <td>0</td>\n",
              "    </tr>\n",
              "    <tr>\n",
              "      <th>62522</th>\n",
              "      <td>I hate any kind of scented shampo...</td>\n",
              "      <td>0</td>\n",
              "    </tr>\n",
              "    <tr>\n",
              "      <th>62523</th>\n",
              "      <td>I saw the  urlLink Bourne Suprema...</td>\n",
              "      <td>0</td>\n",
              "    </tr>\n",
              "    <tr>\n",
              "      <th>62524</th>\n",
              "      <td>I wondered what was the right wa...</td>\n",
              "      <td>0</td>\n",
              "    </tr>\n",
              "  </tbody>\n",
              "</table>\n",
              "<p>62525 rows × 2 columns</p>\n",
              "</div>\n",
              "      <button class=\"colab-df-convert\" onclick=\"convertToInteractive('df-cf2a8d51-be3e-49b7-aab4-89177b3c3497')\"\n",
              "              title=\"Convert this dataframe to an interactive table.\"\n",
              "              style=\"display:none;\">\n",
              "        \n",
              "  <svg xmlns=\"http://www.w3.org/2000/svg\" height=\"24px\"viewBox=\"0 0 24 24\"\n",
              "       width=\"24px\">\n",
              "    <path d=\"M0 0h24v24H0V0z\" fill=\"none\"/>\n",
              "    <path d=\"M18.56 5.44l.94 2.06.94-2.06 2.06-.94-2.06-.94-.94-2.06-.94 2.06-2.06.94zm-11 1L8.5 8.5l.94-2.06 2.06-.94-2.06-.94L8.5 2.5l-.94 2.06-2.06.94zm10 10l.94 2.06.94-2.06 2.06-.94-2.06-.94-.94-2.06-.94 2.06-2.06.94z\"/><path d=\"M17.41 7.96l-1.37-1.37c-.4-.4-.92-.59-1.43-.59-.52 0-1.04.2-1.43.59L10.3 9.45l-7.72 7.72c-.78.78-.78 2.05 0 2.83L4 21.41c.39.39.9.59 1.41.59.51 0 1.02-.2 1.41-.59l7.78-7.78 2.81-2.81c.8-.78.8-2.07 0-2.86zM5.41 20L4 18.59l7.72-7.72 1.47 1.35L5.41 20z\"/>\n",
              "  </svg>\n",
              "      </button>\n",
              "      \n",
              "  <style>\n",
              "    .colab-df-container {\n",
              "      display:flex;\n",
              "      flex-wrap:wrap;\n",
              "      gap: 12px;\n",
              "    }\n",
              "\n",
              "    .colab-df-convert {\n",
              "      background-color: #E8F0FE;\n",
              "      border: none;\n",
              "      border-radius: 50%;\n",
              "      cursor: pointer;\n",
              "      display: none;\n",
              "      fill: #1967D2;\n",
              "      height: 32px;\n",
              "      padding: 0 0 0 0;\n",
              "      width: 32px;\n",
              "    }\n",
              "\n",
              "    .colab-df-convert:hover {\n",
              "      background-color: #E2EBFA;\n",
              "      box-shadow: 0px 1px 2px rgba(60, 64, 67, 0.3), 0px 1px 3px 1px rgba(60, 64, 67, 0.15);\n",
              "      fill: #174EA6;\n",
              "    }\n",
              "\n",
              "    [theme=dark] .colab-df-convert {\n",
              "      background-color: #3B4455;\n",
              "      fill: #D2E3FC;\n",
              "    }\n",
              "\n",
              "    [theme=dark] .colab-df-convert:hover {\n",
              "      background-color: #434B5C;\n",
              "      box-shadow: 0px 1px 3px 1px rgba(0, 0, 0, 0.15);\n",
              "      filter: drop-shadow(0px 1px 2px rgba(0, 0, 0, 0.3));\n",
              "      fill: #FFFFFF;\n",
              "    }\n",
              "  </style>\n",
              "\n",
              "      <script>\n",
              "        const buttonEl =\n",
              "          document.querySelector('#df-cf2a8d51-be3e-49b7-aab4-89177b3c3497 button.colab-df-convert');\n",
              "        buttonEl.style.display =\n",
              "          google.colab.kernel.accessAllowed ? 'block' : 'none';\n",
              "\n",
              "        async function convertToInteractive(key) {\n",
              "          const element = document.querySelector('#df-cf2a8d51-be3e-49b7-aab4-89177b3c3497');\n",
              "          const dataTable =\n",
              "            await google.colab.kernel.invokeFunction('convertToInteractive',\n",
              "                                                     [key], {});\n",
              "          if (!dataTable) return;\n",
              "\n",
              "          const docLinkHtml = 'Like what you see? Visit the ' +\n",
              "            '<a target=\"_blank\" href=https://colab.research.google.com/notebooks/data_table.ipynb>data table notebook</a>'\n",
              "            + ' to learn more about interactive tables.';\n",
              "          element.innerHTML = '';\n",
              "          dataTable['output_type'] = 'display_data';\n",
              "          await google.colab.output.renderOutput(dataTable, element);\n",
              "          const docLink = document.createElement('div');\n",
              "          docLink.innerHTML = docLinkHtml;\n",
              "          element.appendChild(docLink);\n",
              "        }\n",
              "      </script>\n",
              "    </div>\n",
              "  </div>\n",
              "  "
            ]
          },
          "metadata": {}
        },
        {
          "output_type": "execute_result",
          "data": {
            "text/plain": [
              "(62525, 2)"
            ]
          },
          "metadata": {},
          "execution_count": 59
        }
      ]
    },
    {
      "cell_type": "code",
      "source": [
        "!pip install wordcloud"
      ],
      "metadata": {
        "colab": {
          "base_uri": "https://localhost:8080/"
        },
        "id": "q2CuhGLEYQfi",
        "outputId": "074d6c64-b750-47a4-8eac-f80cea639fe7"
      },
      "execution_count": null,
      "outputs": [
        {
          "output_type": "stream",
          "name": "stdout",
          "text": [
            "Requirement already satisfied: wordcloud in /usr/local/lib/python3.7/dist-packages (1.5.0)\n",
            "Requirement already satisfied: pillow in /usr/local/lib/python3.7/dist-packages (from wordcloud) (7.1.2)\n",
            "Requirement already satisfied: numpy>=1.6.1 in /usr/local/lib/python3.7/dist-packages (from wordcloud) (1.21.6)\n"
          ]
        }
      ]
    },
    {
      "cell_type": "code",
      "source": [
        "from wordcloud import WordCloud\n",
        "from wordcloud import STOPWORDS"
      ],
      "metadata": {
        "id": "WQU5GmSKbCI8"
      },
      "execution_count": null,
      "outputs": []
    },
    {
      "cell_type": "code",
      "source": [
        "tech= df[df['topic'].isin([0])]\n",
        "tech_str= tech.text.str.cat()\n",
        "arts= df[df['topic'].isin([1])]\n",
        "arts_str= arts.text.str.cat()\n"
      ],
      "metadata": {
        "id": "fZ3xqxprY1cB"
      },
      "execution_count": null,
      "outputs": []
    },
    {
      "cell_type": "markdown",
      "source": [
        "WordCloud in Technology____"
      ],
      "metadata": {
        "id": "1P2qy3yzcfix"
      }
    },
    {
      "cell_type": "code",
      "source": [
        "wordcloud_tech= WordCloud(background_color='white').generate(tech_str)\n",
        "plt.figure(figsize=(10,10))\n",
        "plt.imshow(wordcloud_tech,interpolation='bilinear')\n",
        "plt.axis(\"off\")\n",
        "plt.show()"
      ],
      "metadata": {
        "colab": {
          "base_uri": "https://localhost:8080/",
          "height": 310
        },
        "id": "nMdeu_QmaPs3",
        "outputId": "4719c739-75d3-4bfd-8e74-78804acb2bae"
      },
      "execution_count": null,
      "outputs": [
        {
          "output_type": "display_data",
          "data": {
            "text/plain": [
              "<Figure size 720x720 with 1 Axes>"
            ],
            "image/png": "[encoded data removed]"
          },
          "metadata": {
            "needs_background": "light"
          }
        }
      ]
    },
    {
      "cell_type": "markdown",
      "source": [
        "WordCloud in Arts________"
      ],
      "metadata": {
        "id": "zg6JY26vco88"
      }
    },
    {
      "cell_type": "code",
      "source": [
        "wordcloud_arts= WordCloud(background_color='white').generate(arts_str)\n",
        "plt.figure(figsize=(10,10))\n",
        "plt.imshow(wordcloud_arts,interpolation='bilinear')\n",
        "plt.axis(\"off\")\n",
        "plt.show()"
      ],
      "metadata": {
        "colab": {
          "base_uri": "https://localhost:8080/",
          "height": 310
        },
        "id": "YDeuwmKJcTdc",
        "outputId": "0b3b24fc-4527-4ebe-b22c-6ef80b0f16c0"
      },
      "execution_count": null,
      "outputs": [
        {
          "output_type": "display_data",
          "data": {
            "text/plain": [
              "<Figure size 720x720 with 1 Axes>"
            ],
            "image/png": "[encoded data removed]"
          },
          "metadata": {
            "needs_background": "light"
          }
        }
      ]
    },
    {
      "cell_type": "code",
      "source": [
        "# Detect all Non-English rows\n",
        "def isEnglish(s):\n",
        "    try:\n",
        "        s.encode().decode('ascii')\n",
        "    except UnicodeDecodeError:\n",
        "        return False\n",
        "    else:\n",
        "        return True\n",
        "df_NonEng_detect = df.text.apply(lambda x: isEnglish(x))\n",
        "df = df[df_NonEng_detect]\n",
        "df.shape #reduced to (59482, 2) from original sample of (62525, 2)"
      ],
      "metadata": {
        "colab": {
          "base_uri": "https://localhost:8080/"
        },
        "id": "pBmPSYWsQdnu",
        "outputId": "60d41dfc-a5e6-4e83-a3d3-41387a3fa367"
      },
      "execution_count": null,
      "outputs": [
        {
          "output_type": "execute_result",
          "data": {
            "text/plain": [
              "(59482, 2)"
            ]
          },
          "metadata": {},
          "execution_count": 65
        }
      ]
    },
    {
      "cell_type": "code",
      "source": [
        "#Creating copy of df and storing in messages to use the messages variable further\n",
        "messages= df.copy()\n",
        "messages.reset_index(inplace=True)\n",
        "messages.tail(100)"
      ],
      "metadata": {
        "colab": {
          "base_uri": "https://localhost:8080/",
          "height": 423
        },
        "id": "yXmk-XkxQ0MS",
        "outputId": "7d91d2f1-66be-48c6-a4c9-c4089e00b5eb"
      },
      "execution_count": null,
      "outputs": [
        {
          "output_type": "execute_result",
          "data": {
            "text/plain": [
              "       index                                               text  topic\n",
              "59382  62419         roy is leaving today.  we had a product...      1\n",
              "59383  62420         ever been at a time in your life where ...      1\n",
              "59384  62421         i have a job interview job with penguin...      1\n",
              "59385  62422                                                         1\n",
              "59386  62423         my comments don't work.. i'm trying to ...      1\n",
              "...      ...                                                ...    ...\n",
              "59477  62519               I am trying to be nicer to everyo...      0\n",
              "59478  62520               Dammit, I have been invaded by pi...      0\n",
              "59479  62521               I have been reading (ok, more lik...      0\n",
              "59480  62522               I hate any kind of scented shampo...      0\n",
              "59481  62523               I saw the  urlLink Bourne Suprema...      0\n",
              "\n",
              "[100 rows x 3 columns]"
            ],
            "text/html": [
              "\n",
              "  <div id=\"df-c1c354b4-c56c-4f62-9bc4-bdf044425eb1\">\n",
              "    <div class=\"colab-df-container\">\n",
              "      <div>\n",
              "<style scoped>\n",
              "    .dataframe tbody tr th:only-of-type {\n",
              "        vertical-align: middle;\n",
              "    }\n",
              "\n",
              "    .dataframe tbody tr th {\n",
              "        vertical-align: top;\n",
              "    }\n",
              "\n",
              "    .dataframe thead th {\n",
              "        text-align: right;\n",
              "    }\n",
              "</style>\n",
              "<table border=\"1\" class=\"dataframe\">\n",
              "  <thead>\n",
              "    <tr style=\"text-align: right;\">\n",
              "      <th></th>\n",
              "      <th>index</th>\n",
              "      <th>text</th>\n",
              "      <th>topic</th>\n",
              "    </tr>\n",
              "  </thead>\n",
              "  <tbody>\n",
              "    <tr>\n",
              "      <th>59382</th>\n",
              "      <td>62419</td>\n",
              "      <td>roy is leaving today.  we had a product...</td>\n",
              "      <td>1</td>\n",
              "    </tr>\n",
              "    <tr>\n",
              "      <th>59383</th>\n",
              "      <td>62420</td>\n",
              "      <td>ever been at a time in your life where ...</td>\n",
              "      <td>1</td>\n",
              "    </tr>\n",
              "    <tr>\n",
              "      <th>59384</th>\n",
              "      <td>62421</td>\n",
              "      <td>i have a job interview job with penguin...</td>\n",
              "      <td>1</td>\n",
              "    </tr>\n",
              "    <tr>\n",
              "      <th>59385</th>\n",
              "      <td>62422</td>\n",
              "      <td></td>\n",
              "      <td>1</td>\n",
              "    </tr>\n",
              "    <tr>\n",
              "      <th>59386</th>\n",
              "      <td>62423</td>\n",
              "      <td>my comments don't work.. i'm trying to ...</td>\n",
              "      <td>1</td>\n",
              "    </tr>\n",
              "    <tr>\n",
              "      <th>...</th>\n",
              "      <td>...</td>\n",
              "      <td>...</td>\n",
              "      <td>...</td>\n",
              "    </tr>\n",
              "    <tr>\n",
              "      <th>59477</th>\n",
              "      <td>62519</td>\n",
              "      <td>I am trying to be nicer to everyo...</td>\n",
              "      <td>0</td>\n",
              "    </tr>\n",
              "    <tr>\n",
              "      <th>59478</th>\n",
              "      <td>62520</td>\n",
              "      <td>Dammit, I have been invaded by pi...</td>\n",
              "      <td>0</td>\n",
              "    </tr>\n",
              "    <tr>\n",
              "      <th>59479</th>\n",
              "      <td>62521</td>\n",
              "      <td>I have been reading (ok, more lik...</td>\n",
              "      <td>0</td>\n",
              "    </tr>\n",
              "    <tr>\n",
              "      <th>59480</th>\n",
              "      <td>62522</td>\n",
              "      <td>I hate any kind of scented shampo...</td>\n",
              "      <td>0</td>\n",
              "    </tr>\n",
              "    <tr>\n",
              "      <th>59481</th>\n",
              "      <td>62523</td>\n",
              "      <td>I saw the  urlLink Bourne Suprema...</td>\n",
              "      <td>0</td>\n",
              "    </tr>\n",
              "  </tbody>\n",
              "</table>\n",
              "<p>100 rows × 3 columns</p>\n",
              "</div>\n",
              "      <button class=\"colab-df-convert\" onclick=\"convertToInteractive('df-c1c354b4-c56c-4f62-9bc4-bdf044425eb1')\"\n",
              "              title=\"Convert this dataframe to an interactive table.\"\n",
              "              style=\"display:none;\">\n",
              "        \n",
              "  <svg xmlns=\"http://www.w3.org/2000/svg\" height=\"24px\"viewBox=\"0 0 24 24\"\n",
              "       width=\"24px\">\n",
              "    <path d=\"M0 0h24v24H0V0z\" fill=\"none\"/>\n",
              "    <path d=\"M18.56 5.44l.94 2.06.94-2.06 2.06-.94-2.06-.94-.94-2.06-.94 2.06-2.06.94zm-11 1L8.5 8.5l.94-2.06 2.06-.94-2.06-.94L8.5 2.5l-.94 2.06-2.06.94zm10 10l.94 2.06.94-2.06 2.06-.94-2.06-.94-.94-2.06-.94 2.06-2.06.94z\"/><path d=\"M17.41 7.96l-1.37-1.37c-.4-.4-.92-.59-1.43-.59-.52 0-1.04.2-1.43.59L10.3 9.45l-7.72 7.72c-.78.78-.78 2.05 0 2.83L4 21.41c.39.39.9.59 1.41.59.51 0 1.02-.2 1.41-.59l7.78-7.78 2.81-2.81c.8-.78.8-2.07 0-2.86zM5.41 20L4 18.59l7.72-7.72 1.47 1.35L5.41 20z\"/>\n",
              "  </svg>\n",
              "      </button>\n",
              "      \n",
              "  <style>\n",
              "    .colab-df-container {\n",
              "      display:flex;\n",
              "      flex-wrap:wrap;\n",
              "      gap: 12px;\n",
              "    }\n",
              "\n",
              "    .colab-df-convert {\n",
              "      background-color: #E8F0FE;\n",
              "      border: none;\n",
              "      border-radius: 50%;\n",
              "      cursor: pointer;\n",
              "      display: none;\n",
              "      fill: #1967D2;\n",
              "      height: 32px;\n",
              "      padding: 0 0 0 0;\n",
              "      width: 32px;\n",
              "    }\n",
              "\n",
              "    .colab-df-convert:hover {\n",
              "      background-color: #E2EBFA;\n",
              "      box-shadow: 0px 1px 2px rgba(60, 64, 67, 0.3), 0px 1px 3px 1px rgba(60, 64, 67, 0.15);\n",
              "      fill: #174EA6;\n",
              "    }\n",
              "\n",
              "    [theme=dark] .colab-df-convert {\n",
              "      background-color: #3B4455;\n",
              "      fill: #D2E3FC;\n",
              "    }\n",
              "\n",
              "    [theme=dark] .colab-df-convert:hover {\n",
              "      background-color: #434B5C;\n",
              "      box-shadow: 0px 1px 3px 1px rgba(0, 0, 0, 0.15);\n",
              "      filter: drop-shadow(0px 1px 2px rgba(0, 0, 0, 0.3));\n",
              "      fill: #FFFFFF;\n",
              "    }\n",
              "  </style>\n",
              "\n",
              "      <script>\n",
              "        const buttonEl =\n",
              "          document.querySelector('#df-c1c354b4-c56c-4f62-9bc4-bdf044425eb1 button.colab-df-convert');\n",
              "        buttonEl.style.display =\n",
              "          google.colab.kernel.accessAllowed ? 'block' : 'none';\n",
              "\n",
              "        async function convertToInteractive(key) {\n",
              "          const element = document.querySelector('#df-c1c354b4-c56c-4f62-9bc4-bdf044425eb1');\n",
              "          const dataTable =\n",
              "            await google.colab.kernel.invokeFunction('convertToInteractive',\n",
              "                                                     [key], {});\n",
              "          if (!dataTable) return;\n",
              "\n",
              "          const docLinkHtml = 'Like what you see? Visit the ' +\n",
              "            '<a target=\"_blank\" href=https://colab.research.google.com/notebooks/data_table.ipynb>data table notebook</a>'\n",
              "            + ' to learn more about interactive tables.';\n",
              "          element.innerHTML = '';\n",
              "          dataTable['output_type'] = 'display_data';\n",
              "          await google.colab.output.renderOutput(dataTable, element);\n",
              "          const docLink = document.createElement('div');\n",
              "          docLink.innerHTML = docLinkHtml;\n",
              "          element.appendChild(docLink);\n",
              "        }\n",
              "      </script>\n",
              "    </div>\n",
              "  </div>\n",
              "  "
            ]
          },
          "metadata": {},
          "execution_count": 66
        }
      ]
    },
    {
      "cell_type": "code",
      "source": [
        "#Using stopwords and lemmatizer function ready to apply in the text data\n",
        "stop_words = set(stopwords.words(\"english\"))\n",
        "get_lemma = WordNetLemmatizer()\n"
      ],
      "metadata": {
        "id": "orGNUdOpRNop"
      },
      "execution_count": null,
      "outputs": []
    },
    {
      "cell_type": "code",
      "source": [
        "#Creating a for loop to do reg ex, lemmatization, splliting words and use stop words\n",
        "corpus=[]\n",
        "for i in range(0, len(messages)):\n",
        "  text = re.sub(r'[^a-zA-Z]',' ',messages['text'][i]) #go to each lines  and substitute all the character except with lowercase a to z except by whitespace\n",
        "  text = text.lower()\n",
        "  text = [get_lemma.lemmatize(token) for token in text.split(\" \")]\n",
        "  text = [get_lemma.lemmatize(token, \"v\") for token in text]    #verb / noun\n",
        "  text = [word for word in text if not word in stop_words] # here all the lemma words which are if stopwords like a an then remove else put it\n",
        "  text = \" \".join(text)\n",
        "  corpus.append(text)\n"
      ],
      "metadata": {
        "id": "gloIUuSFRabe"
      },
      "execution_count": null,
      "outputs": []
    },
    {
      "cell_type": "code",
      "source": [
        "corpus[0:5]"
      ],
      "metadata": {
        "colab": {
          "base_uri": "https://localhost:8080/"
        },
        "id": "0YsL7XM5W1jy",
        "outputId": "de456313-18dc-4a53-cdc9-57762e9af044"
      },
      "execution_count": null,
      "outputs": [
        {
          "output_type": "execute_result",
          "data": {
            "text/plain": [
              "['        current music   could magic   donna summer  feel   blah  ok  late  yeah post since diary suchisthis  server  bitch  vicky head kristen house bronx bbq  live far matter b c spend night wa worth  vicky eat lot chicken hot dog   kill  donut  wa great  fullfilling   lol  soon hour go go outside  kristen neighbor light firework middle street  wa cool pretty first start swift position  go air go look like wa go hit u  scream run around corner  many come one another  think purpose enjoy scream terrorize  kristen wa blast laugh u  wa stand like wa tomorrow  hmm   let get burn  lol  block  later night ritual  burn ritual  lol  vicky kristen burn everything plastic cup pop rock  haha  wa great  think kristen ha slight fetish hot wax  keep pour candle outside  wa like wrong   know hot  wa like really burn  feel good  try   pour    let ahh        really worry  wa feel little darish tell flash air  show thier bra  pussy say  like well u anything yet  let see   flash air feminine part formely know breast    burn half cup ruin poor cement head inside night  wa  st take shower  soon get kris vicky come bathroom go shower   together   thier clothe  like world  like sharice come u  gonna fun get  already wash half little towel  wa get soak know say fuck take  wa completely naked  wa great  start wash thier hair  vicky wash kristen wash vicky  ahh hightlights night  fun  wa best  th july ever   yet   peace     moon card  enter moon enter intuitive psychic realm  stuff dream make  like dream imagery find may inspire u torment u  understand moon require look within  bodily rhythm echo luminary circle earth every month reflect sun progress  listen rhythm may produce vision lead towards insight  moon force ha legend attach  carry romance insanity  moonlight reveal illusion work force dream able withstand reflective light  image  stevee postman  http   www stevee com    urllink   tarot card      bring  urllink quizilla      ',\n",
              " '       hey  one many thing expression zone  hope update much possible  one know blog  hopefully shall remain way  sorry rudeness  name sharice ppls call cherry    mind  alex  alex  alex  want badly right  uhh suck  wanna reach badly way wanna b c ha girlfriend   sigh   oh alex  come back  make happy  know love  b c say  love  anything  anything content     ',\n",
              " '   much funny     point   mention email  game week  research   th century poem final paper   enjoy work  much rather swashbuckling adventure wintery hillsfar  ',\n",
              " '   harper  harper  everywhere   harper  harper  really care  harper  harper  stay motion   harper  harper  heal potion  harper  harper  pin green   harper  harper  enter scene  harper  harper  form bard   harper  harper         bard      get fuck kid  right      bard    jesus christ  screw   ',\n",
              " '   earlier post  johnathan say      gregory  doe feel pull move beyond comfort zone  natural evolution remain central heartland faerun  patrol darkness lurk therein           room everyone  every player saga  glory await  glory  local hero  regional hero  hero land  hero world  hero multiverse     respond way  would say gregory really make sort leap faith swallow extraplanar stuff   get get time   understand world large change place  see father castillion ethereal plane   well  freak   gregory  wa basically like talk ghost  creepy   understand god  something bigger god take whole planet put middle nothingness place  bite much   even though actually experience  still kind think back mind   yeah    right    whatever say man    glory find   local hero   multiverse   would likely never expect rise something hero land hero world   frankly  really see understand whole multiverse thing  even  hero world  kind pretentious eye   ']"
            ]
          },
          "metadata": {},
          "execution_count": 69
        }
      ]
    },
    {
      "cell_type": "code",
      "source": [
        "#Adding more packages____\n",
        "from sklearn.feature_extraction.text import CountVectorizer\n",
        "from sklearn.feature_extraction.text import TfidfVectorizer\n",
        "from sklearn.pipeline import Pipeline\n",
        "from sklearn.feature_selection import SelectKBest, f_classif, chi2\n",
        "from sklearn.naive_bayes import MultinomialNB\n",
        "from sklearn.ensemble._forest import RandomForestClassifier\n",
        "from sklearn.multiclass import OneVsRestClassifier\n",
        "from sklearn.linear_model import LogisticRegression\n",
        "import sklearn.linear_model as sk\n",
        "from sklearn.model_selection import train_test_split\n",
        "import matplotlib.pyplot as plt\n",
        "from sklearn.metrics import classification_report"
      ],
      "metadata": {
        "id": "U-ZR4iDYRqo6"
      },
      "execution_count": null,
      "outputs": []
    },
    {
      "cell_type": "code",
      "source": [
        "df_test = pd.DataFrame (corpus, columns = ['text'])\n",
        "X_df_test= df_test['text']\n",
        "y=messages['topic']"
      ],
      "metadata": {
        "id": "Une5Nv0RR-sw"
      },
      "execution_count": null,
      "outputs": []
    },
    {
      "cell_type": "code",
      "source": [
        "#Spliting to train and test sets by 80 20 ratio___\n",
        "from sklearn.model_selection import train_test_split\n",
        "X_train, X_test, y_train, y_test = train_test_split(X_df_test,y,test_size= 0.20, random_state=0)"
      ],
      "metadata": {
        "id": "atJs7UM0SRUE"
      },
      "execution_count": null,
      "outputs": []
    },
    {
      "cell_type": "code",
      "source": [
        "#Pipeline to select the best number of features\n",
        "pipeline_countvectorizerMN_3000 = Pipeline([('vect', CountVectorizer(max_features=3000)),\n",
        "                      ('clf', MultinomialNB())])\n",
        "pipeline_countvectorizerMN_1000=Pipeline([('vect',CountVectorizer(max_features=1000, ngram_range=(1,3))),\n",
        "                       ('clf', MultinomialNB())])\n",
        "pipeline_TFidfMN_3000=Pipeline([('vect',TfidfVectorizer(max_features=3000,ngram_range=(1,3))),\n",
        "                       ('clf', MultinomialNB())])\n",
        "pipeline_TFidflogistic_4000=Pipeline([('vect',TfidfVectorizer(max_features=4000,ngram_range=(1,3))),\n",
        "                      ('clf', LogisticRegression())])\n",
        "pipeline_randomForest_tfidf_4000= Pipeline([('vect',TfidfVectorizer(max_features=4000,ngram_range=(1,3))),\n",
        "                       ('clf',OneVsRestClassifier(RandomForestClassifier(n_estimators=50),n_jobs=-1))])\n",
        "\n"
      ],
      "metadata": {
        "id": "AmcZqulqRfp1"
      },
      "execution_count": null,
      "outputs": []
    },
    {
      "cell_type": "code",
      "source": [
        "## Making the list of pipelines________________\n",
        "pipelines = [pipeline_countvectorizerMN_3000 , pipeline_countvectorizerMN_1000, pipeline_TFidfMN_3000, pipeline_TFidflogistic_4000 ,pipeline_randomForest_tfidf_4000]"
      ],
      "metadata": {
        "id": "VVpe_Fs9YRI3"
      },
      "execution_count": null,
      "outputs": []
    },
    {
      "cell_type": "code",
      "source": [
        "best_accuracy=0.0\n",
        "best_classifier=0\n",
        "best_pipeline=\"\""
      ],
      "metadata": {
        "id": "tb1gyiFcTWSB"
      },
      "execution_count": null,
      "outputs": []
    },
    {
      "cell_type": "code",
      "source": [
        "\n",
        "pipe_dict = {0: 'MultinomialNB countvectorizer with 3000', 1: 'MultinomialNB countvectorizer with 1000',2: 'MultinomialNB TF-IDF with 3000',3: 'Logistic tfidf with 4000', 4: 'Random Forest tfidf with 4000'}"
      ],
      "metadata": {
        "id": "08KzncS1WsyN"
      },
      "execution_count": null,
      "outputs": []
    },
    {
      "cell_type": "code",
      "source": [
        "# Fit the pipelines\n",
        "for pipe in pipelines:\n",
        "\tpipe.fit(X_train, y_train)"
      ],
      "metadata": {
        "colab": {
          "base_uri": "https://localhost:8080/"
        },
        "id": "hqoVhwJ2T2bB",
        "outputId": "711dabf5-9e2d-4c03-c710-9d54217602d9"
      },
      "execution_count": null,
      "outputs": [
        {
          "output_type": "stream",
          "name": "stderr",
          "text": [
            "/usr/local/lib/python3.7/dist-packages/sklearn/linear_model/_logistic.py:818: ConvergenceWarning: lbfgs failed to converge (status=1):\n",
            "STOP: TOTAL NO. of ITERATIONS REACHED LIMIT.\n",
            "\n",
            "Increase the number of iterations (max_iter) or scale the data as shown in:\n",
            "    https://scikit-learn.org/stable/modules/preprocessing.html\n",
            "Please also refer to the documentation for alternative solver options:\n",
            "    https://scikit-learn.org/stable/modules/linear_model.html#logistic-regression\n",
            "  extra_warning_msg=_LOGISTIC_SOLVER_CONVERGENCE_MSG,\n"
          ]
        }
      ]
    },
    {
      "cell_type": "code",
      "source": [
        "#Accuracy score of each models\n",
        "for i,model in enumerate(pipelines):\n",
        "    print(\"{} Test Accuracy: {}\".format(pipe_dict[i],model.score(X_test,y_test)))"
      ],
      "metadata": {
        "colab": {
          "base_uri": "https://localhost:8080/"
        },
        "id": "Esd-FuG4T-g2",
        "outputId": "060498c8-6bd5-4052-e871-82157cec266e"
      },
      "execution_count": null,
      "outputs": [
        {
          "output_type": "stream",
          "name": "stdout",
          "text": [
            "MultinomialNB countvectorizer with 3000 Test Accuracy: 0.6780701017063125\n",
            "MultinomialNB countvectorizer with 1000 Test Accuracy: 0.6382281247373287\n",
            "MultinomialNB TF-IDF with 3000 Test Accuracy: 0.6833655543414306\n",
            "Logistic tfidf with 4000 Test Accuracy: 0.7048835840968312\n",
            "Random Forest tfidf with 4000 Test Accuracy: 0.6653778263427755\n"
          ]
        }
      ]
    },
    {
      "cell_type": "code",
      "source": [
        "#The best model\n",
        "for i,model in enumerate(pipelines):\n",
        "    if model.score(X_test,y_test)>best_accuracy:\n",
        "        best_accuracy=model.score(X_test,y_test)\n",
        "        best_pipeline=model\n",
        "        best_classifier=i\n",
        "print('Classifier with best accuracy:{}'.format(pipe_dict[best_classifier]))"
      ],
      "metadata": {
        "colab": {
          "base_uri": "https://localhost:8080/"
        },
        "id": "cscEQFVcUCPA",
        "outputId": "a42cd076-d1c9-4685-e154-43b11437340f"
      },
      "execution_count": null,
      "outputs": [
        {
          "output_type": "stream",
          "name": "stdout",
          "text": [
            "Classifier with best accuracy:Logistic tfidf with 4000\n"
          ]
        }
      ]
    },
    {
      "cell_type": "code",
      "source": [
        "#Best and simple model__\n",
        "Vectorizertf_idf= TfidfVectorizer(max_features=4000,ngram_range=(1,3)) #More features the better since it gives the sparse matrix\n",
        "train_vectors_tf= Vectorizertf_idf.fit_transform(X_train) #both fit and transform is done in the training data to normalize the data\n",
        "test_vectors_tf_idf= Vectorizertf_idf.transform(X_test)\n",
        "\n",
        "X_train= train_vectors_tf\n",
        "X_test=test_vectors_tf_idf\n"
      ],
      "metadata": {
        "id": "qF0Lq08MUMRe"
      },
      "execution_count": null,
      "outputs": []
    },
    {
      "cell_type": "code",
      "source": [
        "model=LogisticRegression()\n",
        "model.fit(X_train,y_train)\n",
        "y_pred_logistic_tfidf_4000= model.predict(X_test)\n",
        "print(classification_report(y_test,y_pred_logistic_tfidf_4000))\n",
        "#Precision- False Positive- out of total predicted positive how many were actual positive\n",
        "#Recall- False Negative- out of total actual positive how many we correctly predicted positive"
      ],
      "metadata": {
        "colab": {
          "base_uri": "https://localhost:8080/"
        },
        "id": "cT6eD4uYirH-",
        "outputId": "a6eea5ec-1737-4424-c75b-375dfd35d737"
      },
      "execution_count": null,
      "outputs": [
        {
          "output_type": "stream",
          "name": "stdout",
          "text": [
            "              precision    recall  f1-score   support\n",
            "\n",
            "           0       0.71      0.79      0.75      6636\n",
            "           1       0.69      0.60      0.64      5261\n",
            "\n",
            "    accuracy                           0.70     11897\n",
            "   macro avg       0.70      0.69      0.70     11897\n",
            "weighted avg       0.70      0.70      0.70     11897\n",
            "\n"
          ]
        },
        {
          "output_type": "stream",
          "name": "stderr",
          "text": [
            "/usr/local/lib/python3.7/dist-packages/sklearn/linear_model/_logistic.py:818: ConvergenceWarning: lbfgs failed to converge (status=1):\n",
            "STOP: TOTAL NO. of ITERATIONS REACHED LIMIT.\n",
            "\n",
            "Increase the number of iterations (max_iter) or scale the data as shown in:\n",
            "    https://scikit-learn.org/stable/modules/preprocessing.html\n",
            "Please also refer to the documentation for alternative solver options:\n",
            "    https://scikit-learn.org/stable/modules/linear_model.html#logistic-regression\n",
            "  extra_warning_msg=_LOGISTIC_SOLVER_CONVERGENCE_MSG,\n"
          ]
        }
      ]
    },
    {
      "cell_type": "code",
      "source": [
        "from sklearn import metrics\n",
        "import numpy as np\n",
        "import itertools"
      ],
      "metadata": {
        "id": "4UxY1-LbV1uT"
      },
      "execution_count": null,
      "outputs": []
    },
    {
      "cell_type": "code",
      "source": [
        "#Confusion matrics\n",
        "\n",
        "def plot_confusion_matrix(cm, classes,\n",
        "                          normalize=False,\n",
        "                          title='Confusion matrix',\n",
        "                          cmap=plt.cm.Blues):\n",
        "    \"\"\"\n",
        "    See full source and example:\n",
        "    http://scikit-learn.org/stable/auto_examples/model_selection/plot_confusion_matrix.html\n",
        "\n",
        "    This function prints and plots the confusion matrix.\n",
        "    Normalization can be applied by setting `normalize=True`.\n",
        "    \"\"\"\n",
        "    plt.imshow(cm, interpolation='nearest', cmap=cmap)\n",
        "    plt.title(title)\n",
        "    plt.colorbar()\n",
        "    tick_marks = np.arange(len(classes))\n",
        "    plt.xticks(tick_marks, classes, rotation=45)\n",
        "    plt.yticks(tick_marks, classes)\n",
        "\n",
        "    if normalize:\n",
        "        cm = cm.astype('float') / cm.sum(axis=1)[:, np.newaxis]\n",
        "        print(\"Normalized confusion matrix\")\n",
        "    else:\n",
        "        print('Confusion matrix, without normalization')\n",
        "\n",
        "    thresh = cm.max() / 2.\n",
        "    for i, j in itertools.product(range(cm.shape[0]), range(cm.shape[1])):\n",
        "        plt.text(j, i, cm[i, j],\n",
        "                 horizontalalignment=\"center\",\n",
        "                 color=\"white\" if cm[i, j] > thresh else \"black\")\n",
        "\n",
        "    plt.tight_layout()\n",
        "    plt.ylabel('True label')\n",
        "    plt.xlabel('Predicted label')"
      ],
      "metadata": {
        "id": "GzNFrybLf2Ag"
      },
      "execution_count": null,
      "outputs": []
    },
    {
      "cell_type": "code",
      "source": [
        "classifier=model\n",
        "#pipe.fit(X_train, y_train)\n",
        "pred = classifier.predict(X_test)\n",
        "score = metrics.accuracy_score(y_test, pred)\n",
        "print(\"accuracy:   %0.3f\" % score)\n",
        "cm = metrics.confusion_matrix(y_test, pred)\n",
        "plot_confusion_matrix(cm, classes=['Technology', 'Art'])"
      ],
      "metadata": {
        "colab": {
          "base_uri": "https://localhost:8080/",
          "height": 346
        },
        "id": "eOH72_fXWboX",
        "outputId": "9b49f057-8955-4deb-940d-ec155e3f36fe"
      },
      "execution_count": null,
      "outputs": [
        {
          "output_type": "stream",
          "name": "stdout",
          "text": [
            "accuracy:   0.705\n",
            "Confusion matrix, without normalization\n"
          ]
        },
        {
          "output_type": "display_data",
          "data": {
            "text/plain": [
              "<Figure size 432x288 with 2 Axes>"
            ],
            "image/png": "[encoded data removed]"
          },
          "metadata": {
            "needs_background": "light"
          }
        }
      ]
    },
    {
      "cell_type": "code",
      "source": [
        "#Predicting new data___\n",
        "doc_6= pd.read_csv('/content/data/docs/docs_6.txt', sep= '\\t', header= None)\n",
        "doc_7= pd.read_csv('/content/data/docs/docs_7.txt', sep= '\\t', header= None)\n",
        "doc6_topic= pd.read_csv('/content/data/meta_data/docs_6.csv')\n",
        "doc7_topic= pd.read_csv('/content/data/meta_data/docs_7.csv')\n",
        "doc6_topic=doc6_topic.drop(['gender','age','sign', 'date'], axis=1)\n",
        "doc7_topic=doc7_topic.drop(['gender','age','sign', 'date'], axis=1)\n",
        "text_new_set=pd.concat([doc_6,doc_7])\n",
        "text_new_set.rename( columns={0 :'Id',1: 'text'}, inplace=True )\n",
        "text_new_set.drop(index=text_new_set.index[0], axis=0, inplace=True)"
      ],
      "metadata": {
        "id": "O53HnS3eeM64"
      },
      "execution_count": null,
      "outputs": []
    },
    {
      "cell_type": "code",
      "source": [
        "topic_new_set=pd.concat([doc6_topic,doc7_topic])\n",
        "topic_new_set.rename( columns={'Unnamed: 0':'Id'}, inplace=True )"
      ],
      "metadata": {
        "id": "55pwUPt8ehXQ"
      },
      "execution_count": null,
      "outputs": []
    },
    {
      "cell_type": "code",
      "source": [
        "df_new=pd.merge(text_new_set, topic_new_set, on='Id')\n",
        "df_new['topic'] = df_new.topic.map({'Arts':1, 'Technology':0})"
      ],
      "metadata": {
        "id": "xla5kCDBeWt0"
      },
      "execution_count": null,
      "outputs": []
    },
    {
      "cell_type": "code",
      "source": [
        "df_NonEng_detect_pred = df_new.text.apply(lambda x: isEnglish(x))\n",
        "df_eng = df_new[df_NonEng_detect_pred] # reduced from 11979 rows × 2 columns to 11366 rows × 2 columns\n",
        "df_eng"
      ],
      "metadata": {
        "colab": {
          "base_uri": "https://localhost:8080/",
          "height": 423
        },
        "id": "Nqat0TwjezF8",
        "outputId": "0c8741cd-a8f3-4a4a-814f-b55911eb3baf"
      },
      "execution_count": null,
      "outputs": [
        {
          "output_type": "execute_result",
          "data": {
            "text/plain": [
              "            Id                                               text  topic\n",
              "0      62525.0               Well, Anne and I are talking agai...      0\n",
              "2      62527.0               OK, Monday.  No big deal, after t...      0\n",
              "3      62528.0               I am at the office today.  My pri...      0\n",
              "4      62529.0               That basically sums it up at the ...      0\n",
              "13     62538.0               This is the new blog location for...      0\n",
              "...        ...                                                ...    ...\n",
              "11974  74499.0         Ah Wednesday that wonderful day of the ...      0\n",
              "11975  74500.0         I had heard rumor that Google might be ...      0\n",
              "11976  74501.0         The non-LDS make fun of the trademark U...      1\n",
              "11977  74502.0         Who among us having served in the R.S. ...      1\n",
              "11978  74503.0                PATRICIA'S SHORT SPEECH WORTH RE...      0\n",
              "\n",
              "[11366 rows x 3 columns]"
            ],
            "text/html": [
              "\n",
              "  <div id=\"df-83d8e318-460e-4a95-8c0a-5999e82a0e7f\">\n",
              "    <div class=\"colab-df-container\">\n",
              "      <div>\n",
              "<style scoped>\n",
              "    .dataframe tbody tr th:only-of-type {\n",
              "        vertical-align: middle;\n",
              "    }\n",
              "\n",
              "    .dataframe tbody tr th {\n",
              "        vertical-align: top;\n",
              "    }\n",
              "\n",
              "    .dataframe thead th {\n",
              "        text-align: right;\n",
              "    }\n",
              "</style>\n",
              "<table border=\"1\" class=\"dataframe\">\n",
              "  <thead>\n",
              "    <tr style=\"text-align: right;\">\n",
              "      <th></th>\n",
              "      <th>Id</th>\n",
              "      <th>text</th>\n",
              "      <th>topic</th>\n",
              "    </tr>\n",
              "  </thead>\n",
              "  <tbody>\n",
              "    <tr>\n",
              "      <th>0</th>\n",
              "      <td>62525.0</td>\n",
              "      <td>Well, Anne and I are talking agai...</td>\n",
              "      <td>0</td>\n",
              "    </tr>\n",
              "    <tr>\n",
              "      <th>2</th>\n",
              "      <td>62527.0</td>\n",
              "      <td>OK, Monday.  No big deal, after t...</td>\n",
              "      <td>0</td>\n",
              "    </tr>\n",
              "    <tr>\n",
              "      <th>3</th>\n",
              "      <td>62528.0</td>\n",
              "      <td>I am at the office today.  My pri...</td>\n",
              "      <td>0</td>\n",
              "    </tr>\n",
              "    <tr>\n",
              "      <th>4</th>\n",
              "      <td>62529.0</td>\n",
              "      <td>That basically sums it up at the ...</td>\n",
              "      <td>0</td>\n",
              "    </tr>\n",
              "    <tr>\n",
              "      <th>13</th>\n",
              "      <td>62538.0</td>\n",
              "      <td>This is the new blog location for...</td>\n",
              "      <td>0</td>\n",
              "    </tr>\n",
              "    <tr>\n",
              "      <th>...</th>\n",
              "      <td>...</td>\n",
              "      <td>...</td>\n",
              "      <td>...</td>\n",
              "    </tr>\n",
              "    <tr>\n",
              "      <th>11974</th>\n",
              "      <td>74499.0</td>\n",
              "      <td>Ah Wednesday that wonderful day of the ...</td>\n",
              "      <td>0</td>\n",
              "    </tr>\n",
              "    <tr>\n",
              "      <th>11975</th>\n",
              "      <td>74500.0</td>\n",
              "      <td>I had heard rumor that Google might be ...</td>\n",
              "      <td>0</td>\n",
              "    </tr>\n",
              "    <tr>\n",
              "      <th>11976</th>\n",
              "      <td>74501.0</td>\n",
              "      <td>The non-LDS make fun of the trademark U...</td>\n",
              "      <td>1</td>\n",
              "    </tr>\n",
              "    <tr>\n",
              "      <th>11977</th>\n",
              "      <td>74502.0</td>\n",
              "      <td>Who among us having served in the R.S. ...</td>\n",
              "      <td>1</td>\n",
              "    </tr>\n",
              "    <tr>\n",
              "      <th>11978</th>\n",
              "      <td>74503.0</td>\n",
              "      <td>PATRICIA'S SHORT SPEECH WORTH RE...</td>\n",
              "      <td>0</td>\n",
              "    </tr>\n",
              "  </tbody>\n",
              "</table>\n",
              "<p>11366 rows × 3 columns</p>\n",
              "</div>\n",
              "      <button class=\"colab-df-convert\" onclick=\"convertToInteractive('df-83d8e318-460e-4a95-8c0a-5999e82a0e7f')\"\n",
              "              title=\"Convert this dataframe to an interactive table.\"\n",
              "              style=\"display:none;\">\n",
              "        \n",
              "  <svg xmlns=\"http://www.w3.org/2000/svg\" height=\"24px\"viewBox=\"0 0 24 24\"\n",
              "       width=\"24px\">\n",
              "    <path d=\"M0 0h24v24H0V0z\" fill=\"none\"/>\n",
              "    <path d=\"M18.56 5.44l.94 2.06.94-2.06 2.06-.94-2.06-.94-.94-2.06-.94 2.06-2.06.94zm-11 1L8.5 8.5l.94-2.06 2.06-.94-2.06-.94L8.5 2.5l-.94 2.06-2.06.94zm10 10l.94 2.06.94-2.06 2.06-.94-2.06-.94-.94-2.06-.94 2.06-2.06.94z\"/><path d=\"M17.41 7.96l-1.37-1.37c-.4-.4-.92-.59-1.43-.59-.52 0-1.04.2-1.43.59L10.3 9.45l-7.72 7.72c-.78.78-.78 2.05 0 2.83L4 21.41c.39.39.9.59 1.41.59.51 0 1.02-.2 1.41-.59l7.78-7.78 2.81-2.81c.8-.78.8-2.07 0-2.86zM5.41 20L4 18.59l7.72-7.72 1.47 1.35L5.41 20z\"/>\n",
              "  </svg>\n",
              "      </button>\n",
              "      \n",
              "  <style>\n",
              "    .colab-df-container {\n",
              "      display:flex;\n",
              "      flex-wrap:wrap;\n",
              "      gap: 12px;\n",
              "    }\n",
              "\n",
              "    .colab-df-convert {\n",
              "      background-color: #E8F0FE;\n",
              "      border: none;\n",
              "      border-radius: 50%;\n",
              "      cursor: pointer;\n",
              "      display: none;\n",
              "      fill: #1967D2;\n",
              "      height: 32px;\n",
              "      padding: 0 0 0 0;\n",
              "      width: 32px;\n",
              "    }\n",
              "\n",
              "    .colab-df-convert:hover {\n",
              "      background-color: #E2EBFA;\n",
              "      box-shadow: 0px 1px 2px rgba(60, 64, 67, 0.3), 0px 1px 3px 1px rgba(60, 64, 67, 0.15);\n",
              "      fill: #174EA6;\n",
              "    }\n",
              "\n",
              "    [theme=dark] .colab-df-convert {\n",
              "      background-color: #3B4455;\n",
              "      fill: #D2E3FC;\n",
              "    }\n",
              "\n",
              "    [theme=dark] .colab-df-convert:hover {\n",
              "      background-color: #434B5C;\n",
              "      box-shadow: 0px 1px 3px 1px rgba(0, 0, 0, 0.15);\n",
              "      filter: drop-shadow(0px 1px 2px rgba(0, 0, 0, 0.3));\n",
              "      fill: #FFFFFF;\n",
              "    }\n",
              "  </style>\n",
              "\n",
              "      <script>\n",
              "        const buttonEl =\n",
              "          document.querySelector('#df-83d8e318-460e-4a95-8c0a-5999e82a0e7f button.colab-df-convert');\n",
              "        buttonEl.style.display =\n",
              "          google.colab.kernel.accessAllowed ? 'block' : 'none';\n",
              "\n",
              "        async function convertToInteractive(key) {\n",
              "          const element = document.querySelector('#df-83d8e318-460e-4a95-8c0a-5999e82a0e7f');\n",
              "          const dataTable =\n",
              "            await google.colab.kernel.invokeFunction('convertToInteractive',\n",
              "                                                     [key], {});\n",
              "          if (!dataTable) return;\n",
              "\n",
              "          const docLinkHtml = 'Like what you see? Visit the ' +\n",
              "            '<a target=\"_blank\" href=https://colab.research.google.com/notebooks/data_table.ipynb>data table notebook</a>'\n",
              "            + ' to learn more about interactive tables.';\n",
              "          element.innerHTML = '';\n",
              "          dataTable['output_type'] = 'display_data';\n",
              "          await google.colab.output.renderOutput(dataTable, element);\n",
              "          const docLink = document.createElement('div');\n",
              "          docLink.innerHTML = docLinkHtml;\n",
              "          element.appendChild(docLink);\n",
              "        }\n",
              "      </script>\n",
              "    </div>\n",
              "  </div>\n",
              "  "
            ]
          },
          "metadata": {},
          "execution_count": 88
        }
      ]
    },
    {
      "cell_type": "code",
      "source": [
        "messages_pred= df_eng.copy()\n",
        "messages_pred.reset_index(inplace=True)"
      ],
      "metadata": {
        "id": "bH0FE1dljreV"
      },
      "execution_count": null,
      "outputs": []
    },
    {
      "cell_type": "code",
      "source": [
        "corpus_pred=[]\n",
        "for i in range(0, len(messages_pred)):\n",
        "  text = re.sub(r'[^a-zA-Z]',' ',messages['text'][i]) #go to each lines and substitute all the character except with lowercase a to z except by whitespace\n",
        "  text = text.lower()\n",
        "  text = [get_lemma.lemmatize(token) for token in text.split(\" \")]\n",
        "  text = [get_lemma.lemmatize(token, \"v\") for token in text]    #verb / noun\n",
        "  text = [word for word in text if not word in stop_words] # here all the lemma words which are if stopwords like a an then remove else put it\n",
        "  text = \" \".join(text)\n",
        "  corpus_pred.append(text)"
      ],
      "metadata": {
        "id": "LJ6v-DN9jugJ"
      },
      "execution_count": null,
      "outputs": []
    },
    {
      "cell_type": "code",
      "source": [
        "df_pred = pd.DataFrame (corpus_pred, columns = ['text'])\n",
        "X_df_pred= df_pred['text']"
      ],
      "metadata": {
        "id": "Q12uaVCWlz7d"
      },
      "execution_count": null,
      "outputs": []
    },
    {
      "cell_type": "code",
      "source": [
        "X_train.A"
      ],
      "metadata": {
        "colab": {
          "base_uri": "https://localhost:8080/"
        },
        "id": "e03fYX4cqSXc",
        "outputId": "8328bd9b-c4b5-4d99-b266-f6bdb6aac206"
      },
      "execution_count": null,
      "outputs": [
        {
          "output_type": "execute_result",
          "data": {
            "text/plain": [
              "array([[0.        , 0.        , 0.        , ..., 0.        , 0.        ,\n",
              "        0.        ],\n",
              "       [0.        , 0.        , 0.04904241, ..., 0.        , 0.        ,\n",
              "        0.        ],\n",
              "       [0.        , 0.        , 0.        , ..., 0.        , 0.        ,\n",
              "        0.        ],\n",
              "       ...,\n",
              "       [0.        , 0.        , 0.        , ..., 0.        , 0.        ,\n",
              "        0.        ],\n",
              "       [0.        , 0.        , 0.        , ..., 0.        , 0.        ,\n",
              "        0.        ],\n",
              "       [0.        , 0.        , 0.        , ..., 0.        , 0.        ,\n",
              "        0.        ]])"
            ]
          },
          "metadata": {},
          "execution_count": 93
        }
      ]
    },
    {
      "cell_type": "code",
      "source": [
        "X_df_pred"
      ],
      "metadata": {
        "colab": {
          "base_uri": "https://localhost:8080/"
        },
        "id": "BgbldiaqqGZN",
        "outputId": "75018d88-b8a2-439d-ed47-e5cfce2d36c8"
      },
      "execution_count": null,
      "outputs": [
        {
          "output_type": "execute_result",
          "data": {
            "text/plain": [
              "0                current music   could magic   donna su...\n",
              "1               hey  one many thing expression zone  ho...\n",
              "2           much funny     point   mention email  game ...\n",
              "3           harper  harper  everywhere   harper  harper...\n",
              "4           earlier post  johnathan say      gregory  d...\n",
              "                               ...                        \n",
              "11361       get lot hour work seem   paranoid  yet perh...\n",
              "11362       holiday weekend wa fun   brother drive enti...\n",
              "11363       fall back towards earth                    ...\n",
              "11364       maybe troll around much comment none    sok...\n",
              "11365       evil  thy name ith procrastination   need p...\n",
              "Name: text, Length: 11366, dtype: object"
            ]
          },
          "metadata": {},
          "execution_count": 95
        }
      ]
    },
    {
      "cell_type": "code",
      "source": [
        "#Spliting to train and test sets by 80 20 ratio___\n",
        "from sklearn.model_selection import train_test_split\n",
        "X_train, X_test, y_train, y_test = train_test_split(X_df_test,y,test_size= 0.20, random_state=0)"
      ],
      "metadata": {
        "id": "_Er4_Ce4sYr8"
      },
      "execution_count": null,
      "outputs": []
    },
    {
      "cell_type": "code",
      "source": [
        "Vectorizertf_idf= TfidfVectorizer(max_features=4000,ngram_range=(1,3)) #More features the better since it gives the sparse matrix\n",
        "train_vectors_tf= Vectorizertf_idf.fit_transform(X_train)\n",
        "X_pred_vectors_tf= Vectorizertf_idf.transform(X_df_pred) #This sometime might give error that TF-IDF is not fitted.. if it did, then it means that the earlier fit we did in the training set got\n",
        "X_pred_vectors_tf.A"
      ],
      "metadata": {
        "colab": {
          "base_uri": "https://localhost:8080/"
        },
        "id": "lCuov7yMmCfv",
        "outputId": "4d1a7441-9e74-46a2-8166-9e1fab7d9958"
      },
      "execution_count": null,
      "outputs": [
        {
          "output_type": "execute_result",
          "data": {
            "text/plain": [
              "array([[0.        , 0.        , 0.03806684, ..., 0.        , 0.        ,\n",
              "        0.        ],\n",
              "       [0.        , 0.        , 0.        , ..., 0.        , 0.        ,\n",
              "        0.14640474],\n",
              "       [0.        , 0.        , 0.        , ..., 0.        , 0.        ,\n",
              "        0.        ],\n",
              "       ...,\n",
              "       [0.        , 0.        , 0.        , ..., 0.        , 0.        ,\n",
              "        0.        ],\n",
              "       [0.        , 0.        , 0.        , ..., 0.        , 0.        ,\n",
              "        0.        ],\n",
              "       [0.        , 0.        , 0.        , ..., 0.        , 0.        ,\n",
              "        0.        ]])"
            ]
          },
          "metadata": {},
          "execution_count": 97
        }
      ]
    },
    {
      "cell_type": "code",
      "source": [
        "X_train=train_vectors_tf\n",
        "y_pred=X_pred_vectors_tf\n",
        "model=LogisticRegression()\n",
        "model.fit(X_train,y_train)\n",
        "pred_new_logistic=model.predict(y_pred)\n"
      ],
      "metadata": {
        "colab": {
          "base_uri": "https://localhost:8080/"
        },
        "id": "JIGp5_Oxmu8y",
        "outputId": "9c83fda6-3ec3-455c-9e06-1b4138768556"
      },
      "execution_count": null,
      "outputs": [
        {
          "output_type": "stream",
          "name": "stderr",
          "text": [
            "/usr/local/lib/python3.7/dist-packages/sklearn/linear_model/_logistic.py:818: ConvergenceWarning: lbfgs failed to converge (status=1):\n",
            "STOP: TOTAL NO. of ITERATIONS REACHED LIMIT.\n",
            "\n",
            "Increase the number of iterations (max_iter) or scale the data as shown in:\n",
            "    https://scikit-learn.org/stable/modules/preprocessing.html\n",
            "Please also refer to the documentation for alternative solver options:\n",
            "    https://scikit-learn.org/stable/modules/linear_model.html#logistic-regression\n",
            "  extra_warning_msg=_LOGISTIC_SOLVER_CONVERGENCE_MSG,\n"
          ]
        }
      ]
    },
    {
      "cell_type": "code",
      "source": [
        "df_eng['topic_pred_logistic'] = pred_new_logistic\n",
        "df_eng\n",
        "#y_new_true = df_eng['topic']\n",
        "#df_eng['topic_true'] = y_new_true"
      ],
      "metadata": {
        "colab": {
          "base_uri": "https://localhost:8080/",
          "height": 528
        },
        "id": "tlemK_Q9nYhJ",
        "outputId": "1bf0d5c0-db55-45ca-dab0-387ae09c8182"
      },
      "execution_count": null,
      "outputs": [
        {
          "output_type": "stream",
          "name": "stderr",
          "text": [
            "/usr/local/lib/python3.7/dist-packages/ipykernel_launcher.py:1: SettingWithCopyWarning: \n",
            "A value is trying to be set on a copy of a slice from a DataFrame.\n",
            "Try using .loc[row_indexer,col_indexer] = value instead\n",
            "\n",
            "See the caveats in the documentation: https://pandas.pydata.org/pandas-docs/stable/user_guide/indexing.html#returning-a-view-versus-a-copy\n",
            "  \"\"\"Entry point for launching an IPython kernel.\n"
          ]
        },
        {
          "output_type": "execute_result",
          "data": {
            "text/plain": [
              "            Id                                               text  topic  \\\n",
              "0      62525.0               Well, Anne and I are talking agai...      0   \n",
              "2      62527.0               OK, Monday.  No big deal, after t...      0   \n",
              "3      62528.0               I am at the office today.  My pri...      0   \n",
              "4      62529.0               That basically sums it up at the ...      0   \n",
              "13     62538.0               This is the new blog location for...      0   \n",
              "...        ...                                                ...    ...   \n",
              "11974  74499.0         Ah Wednesday that wonderful day of the ...      0   \n",
              "11975  74500.0         I had heard rumor that Google might be ...      0   \n",
              "11976  74501.0         The non-LDS make fun of the trademark U...      1   \n",
              "11977  74502.0         Who among us having served in the R.S. ...      1   \n",
              "11978  74503.0                PATRICIA'S SHORT SPEECH WORTH RE...      0   \n",
              "\n",
              "       topic_pred_logistic  \n",
              "0                        1  \n",
              "2                        1  \n",
              "3                        1  \n",
              "4                        0  \n",
              "13                       0  \n",
              "...                    ...  \n",
              "11974                    1  \n",
              "11975                    1  \n",
              "11976                    0  \n",
              "11977                    0  \n",
              "11978                    1  \n",
              "\n",
              "[11366 rows x 4 columns]"
            ],
            "text/html": [
              "\n",
              "  <div id=\"df-a778063e-39b5-4b62-95fb-9e78b8f9c4bd\">\n",
              "    <div class=\"colab-df-container\">\n",
              "      <div>\n",
              "<style scoped>\n",
              "    .dataframe tbody tr th:only-of-type {\n",
              "        vertical-align: middle;\n",
              "    }\n",
              "\n",
              "    .dataframe tbody tr th {\n",
              "        vertical-align: top;\n",
              "    }\n",
              "\n",
              "    .dataframe thead th {\n",
              "        text-align: right;\n",
              "    }\n",
              "</style>\n",
              "<table border=\"1\" class=\"dataframe\">\n",
              "  <thead>\n",
              "    <tr style=\"text-align: right;\">\n",
              "      <th></th>\n",
              "      <th>Id</th>\n",
              "      <th>text</th>\n",
              "      <th>topic</th>\n",
              "      <th>topic_pred_logistic</th>\n",
              "    </tr>\n",
              "  </thead>\n",
              "  <tbody>\n",
              "    <tr>\n",
              "      <th>0</th>\n",
              "      <td>62525.0</td>\n",
              "      <td>Well, Anne and I are talking agai...</td>\n",
              "      <td>0</td>\n",
              "      <td>1</td>\n",
              "    </tr>\n",
              "    <tr>\n",
              "      <th>2</th>\n",
              "      <td>62527.0</td>\n",
              "      <td>OK, Monday.  No big deal, after t...</td>\n",
              "      <td>0</td>\n",
              "      <td>1</td>\n",
              "    </tr>\n",
              "    <tr>\n",
              "      <th>3</th>\n",
              "      <td>62528.0</td>\n",
              "      <td>I am at the office today.  My pri...</td>\n",
              "      <td>0</td>\n",
              "      <td>1</td>\n",
              "    </tr>\n",
              "    <tr>\n",
              "      <th>4</th>\n",
              "      <td>62529.0</td>\n",
              "      <td>That basically sums it up at the ...</td>\n",
              "      <td>0</td>\n",
              "      <td>0</td>\n",
              "    </tr>\n",
              "    <tr>\n",
              "      <th>13</th>\n",
              "      <td>62538.0</td>\n",
              "      <td>This is the new blog location for...</td>\n",
              "      <td>0</td>\n",
              "      <td>0</td>\n",
              "    </tr>\n",
              "    <tr>\n",
              "      <th>...</th>\n",
              "      <td>...</td>\n",
              "      <td>...</td>\n",
              "      <td>...</td>\n",
              "      <td>...</td>\n",
              "    </tr>\n",
              "    <tr>\n",
              "      <th>11974</th>\n",
              "      <td>74499.0</td>\n",
              "      <td>Ah Wednesday that wonderful day of the ...</td>\n",
              "      <td>0</td>\n",
              "      <td>1</td>\n",
              "    </tr>\n",
              "    <tr>\n",
              "      <th>11975</th>\n",
              "      <td>74500.0</td>\n",
              "      <td>I had heard rumor that Google might be ...</td>\n",
              "      <td>0</td>\n",
              "      <td>1</td>\n",
              "    </tr>\n",
              "    <tr>\n",
              "      <th>11976</th>\n",
              "      <td>74501.0</td>\n",
              "      <td>The non-LDS make fun of the trademark U...</td>\n",
              "      <td>1</td>\n",
              "      <td>0</td>\n",
              "    </tr>\n",
              "    <tr>\n",
              "      <th>11977</th>\n",
              "      <td>74502.0</td>\n",
              "      <td>Who among us having served in the R.S. ...</td>\n",
              "      <td>1</td>\n",
              "      <td>0</td>\n",
              "    </tr>\n",
              "    <tr>\n",
              "      <th>11978</th>\n",
              "      <td>74503.0</td>\n",
              "      <td>PATRICIA'S SHORT SPEECH WORTH RE...</td>\n",
              "      <td>0</td>\n",
              "      <td>1</td>\n",
              "    </tr>\n",
              "  </tbody>\n",
              "</table>\n",
              "<p>11366 rows × 4 columns</p>\n",
              "</div>\n",
              "      <button class=\"colab-df-convert\" onclick=\"convertToInteractive('df-a778063e-39b5-4b62-95fb-9e78b8f9c4bd')\"\n",
              "              title=\"Convert this dataframe to an interactive table.\"\n",
              "              style=\"display:none;\">\n",
              "        \n",
              "  <svg xmlns=\"http://www.w3.org/2000/svg\" height=\"24px\"viewBox=\"0 0 24 24\"\n",
              "       width=\"24px\">\n",
              "    <path d=\"M0 0h24v24H0V0z\" fill=\"none\"/>\n",
              "    <path d=\"M18.56 5.44l.94 2.06.94-2.06 2.06-.94-2.06-.94-.94-2.06-.94 2.06-2.06.94zm-11 1L8.5 8.5l.94-2.06 2.06-.94-2.06-.94L8.5 2.5l-.94 2.06-2.06.94zm10 10l.94 2.06.94-2.06 2.06-.94-2.06-.94-.94-2.06-.94 2.06-2.06.94z\"/><path d=\"M17.41 7.96l-1.37-1.37c-.4-.4-.92-.59-1.43-.59-.52 0-1.04.2-1.43.59L10.3 9.45l-7.72 7.72c-.78.78-.78 2.05 0 2.83L4 21.41c.39.39.9.59 1.41.59.51 0 1.02-.2 1.41-.59l7.78-7.78 2.81-2.81c.8-.78.8-2.07 0-2.86zM5.41 20L4 18.59l7.72-7.72 1.47 1.35L5.41 20z\"/>\n",
              "  </svg>\n",
              "      </button>\n",
              "      \n",
              "  <style>\n",
              "    .colab-df-container {\n",
              "      display:flex;\n",
              "      flex-wrap:wrap;\n",
              "      gap: 12px;\n",
              "    }\n",
              "\n",
              "    .colab-df-convert {\n",
              "      background-color: #E8F0FE;\n",
              "      border: none;\n",
              "      border-radius: 50%;\n",
              "      cursor: pointer;\n",
              "      display: none;\n",
              "      fill: #1967D2;\n",
              "      height: 32px;\n",
              "      padding: 0 0 0 0;\n",
              "      width: 32px;\n",
              "    }\n",
              "\n",
              "    .colab-df-convert:hover {\n",
              "      background-color: #E2EBFA;\n",
              "      box-shadow: 0px 1px 2px rgba(60, 64, 67, 0.3), 0px 1px 3px 1px rgba(60, 64, 67, 0.15);\n",
              "      fill: #174EA6;\n",
              "    }\n",
              "\n",
              "    [theme=dark] .colab-df-convert {\n",
              "      background-color: #3B4455;\n",
              "      fill: #D2E3FC;\n",
              "    }\n",
              "\n",
              "    [theme=dark] .colab-df-convert:hover {\n",
              "      background-color: #434B5C;\n",
              "      box-shadow: 0px 1px 3px 1px rgba(0, 0, 0, 0.15);\n",
              "      filter: drop-shadow(0px 1px 2px rgba(0, 0, 0, 0.3));\n",
              "      fill: #FFFFFF;\n",
              "    }\n",
              "  </style>\n",
              "\n",
              "      <script>\n",
              "        const buttonEl =\n",
              "          document.querySelector('#df-a778063e-39b5-4b62-95fb-9e78b8f9c4bd button.colab-df-convert');\n",
              "        buttonEl.style.display =\n",
              "          google.colab.kernel.accessAllowed ? 'block' : 'none';\n",
              "\n",
              "        async function convertToInteractive(key) {\n",
              "          const element = document.querySelector('#df-a778063e-39b5-4b62-95fb-9e78b8f9c4bd');\n",
              "          const dataTable =\n",
              "            await google.colab.kernel.invokeFunction('convertToInteractive',\n",
              "                                                     [key], {});\n",
              "          if (!dataTable) return;\n",
              "\n",
              "          const docLinkHtml = 'Like what you see? Visit the ' +\n",
              "            '<a target=\"_blank\" href=https://colab.research.google.com/notebooks/data_table.ipynb>data table notebook</a>'\n",
              "            + ' to learn more about interactive tables.';\n",
              "          element.innerHTML = '';\n",
              "          dataTable['output_type'] = 'display_data';\n",
              "          await google.colab.output.renderOutput(dataTable, element);\n",
              "          const docLink = document.createElement('div');\n",
              "          docLink.innerHTML = docLinkHtml;\n",
              "          element.appendChild(docLink);\n",
              "        }\n",
              "      </script>\n",
              "    </div>\n",
              "  </div>\n",
              "  "
            ]
          },
          "metadata": {},
          "execution_count": 100
        }
      ]
    },
    {
      "cell_type": "code",
      "source": [
        "from sklearn.metrics import accuracy_score\n",
        "accuracy_score(df_eng['topic'],df_eng['topic_pred_logistic']) #0.5439028682034137 accuracy score on new unseen data___ i.e. doc6 and doc 7 merged"
      ],
      "metadata": {
        "colab": {
          "base_uri": "https://localhost:8080/"
        },
        "id": "slDgloLtugzi",
        "outputId": "f238ef40-6d51-4617-b1a6-934c7f482e14"
      },
      "execution_count": null,
      "outputs": [
        {
          "output_type": "execute_result",
          "data": {
            "text/plain": [
              "0.5439028682034137"
            ]
          },
          "metadata": {},
          "execution_count": 101
        }
      ]
    },
    {
      "cell_type": "code",
      "source": [
        "#Using LSTM___\n",
        "import tensorflow as tf\n",
        "from tensorflow.keras.layers import Embedding\n",
        "from tensorflow.keras.preprocessing.sequence import pad_sequences\n",
        "from tensorflow.keras.models import Sequential\n",
        "from tensorflow.keras.preprocessing.text import one_hot\n",
        "from tensorflow.keras.layers import LSTM\n",
        "from tensorflow.keras.layers import Dense"
      ],
      "metadata": {
        "id": "K_vilm6OdCFb"
      },
      "execution_count": null,
      "outputs": []
    },
    {
      "cell_type": "code",
      "source": [
        "voc_size= 90000\n",
        "onehot_repr=[one_hot(words,voc_size)for words in corpus]\n",
        "#Embedding Representation\n",
        "sent_length=200\n",
        "embedded_docs=pad_sequences(onehot_repr,padding='pre',maxlen=sent_length)"
      ],
      "metadata": {
        "id": "8N3PTtf6dIgq"
      },
      "execution_count": null,
      "outputs": []
    },
    {
      "cell_type": "code",
      "source": [
        "## Creating model\n",
        "embedding_vector_features=100\n",
        "model=Sequential()\n",
        "model.add(Embedding(voc_size,embedding_vector_features,input_length=sent_length))\n",
        "model.add(LSTM(10))\n",
        "model.add(Dense(1,activation='sigmoid'))\n",
        "model.compile(loss='binary_crossentropy',optimizer='adam',metrics=['accuracy'])\n",
        "print(model.summary())"
      ],
      "metadata": {
        "colab": {
          "base_uri": "https://localhost:8080/"
        },
        "id": "eSt42FsrdgOA",
        "outputId": "26025bac-6308-46dc-be8c-a89f8197f0f4"
      },
      "execution_count": null,
      "outputs": [
        {
          "output_type": "stream",
          "name": "stdout",
          "text": [
            "Model: \"sequential\"\n",
            "_________________________________________________________________\n",
            " Layer (type)                Output Shape              Param #   \n",
            "=================================================================\n",
            " embedding (Embedding)       (None, 200, 100)          9000000   \n",
            "                                                                 \n",
            " lstm (LSTM)                 (None, 10)                4440      \n",
            "                                                                 \n",
            " dense (Dense)               (None, 1)                 11        \n",
            "                                                                 \n",
            "=================================================================\n",
            "Total params: 9,004,451\n",
            "Trainable params: 9,004,451\n",
            "Non-trainable params: 0\n",
            "_________________________________________________________________\n",
            "None\n"
          ]
        }
      ]
    },
    {
      "cell_type": "code",
      "source": [
        "import numpy as np\n",
        "X_final=np.array(embedded_docs)\n",
        "y_final=np.array(y)"
      ],
      "metadata": {
        "id": "zcqwnDVXdw2I"
      },
      "execution_count": null,
      "outputs": []
    },
    {
      "cell_type": "code",
      "source": [
        "from sklearn.model_selection import train_test_split\n",
        "X_train, X_test, y_train, y_test = train_test_split(X_final, y_final,test_size= 0.20, random_state=42)\n",
        "model.fit(X_train,y_train,validation_data=(X_test,y_test),epochs=6,batch_size=64) #accuracy_training: 0.8933; - val_accuracy: 0.7061"
      ],
      "metadata": {
        "colab": {
          "base_uri": "https://localhost:8080/"
        },
        "id": "RxcydX07d3KG",
        "outputId": "f00e8dce-b8df-4d9d-81b4-c7656e8d4fd2"
      },
      "execution_count": null,
      "outputs": [
        {
          "output_type": "stream",
          "name": "stdout",
          "text": [
            "Epoch 1/6\n",
            "744/744 [==============================] - 159s 214ms/step - loss: 0.5875 - accuracy: 0.6768 - val_loss: 0.5397 - val_accuracy: 0.7051\n",
            "Epoch 2/6\n",
            "744/744 [==============================] - 155s 208ms/step - loss: 0.4299 - accuracy: 0.7921 - val_loss: 0.5431 - val_accuracy: 0.7113\n",
            "Epoch 3/6\n",
            "744/744 [==============================] - 155s 208ms/step - loss: 0.3281 - accuracy: 0.8453 - val_loss: 0.5975 - val_accuracy: 0.7080\n",
            "Epoch 4/6\n",
            "744/744 [==============================] - 159s 213ms/step - loss: 0.2632 - accuracy: 0.8744 - val_loss: 0.6925 - val_accuracy: 0.7028\n",
            "Epoch 5/6\n",
            "744/744 [==============================] - 154s 207ms/step - loss: 0.2208 - accuracy: 0.8914 - val_loss: 0.7561 - val_accuracy: 0.6960\n",
            "Epoch 6/6\n",
            "744/744 [==============================] - 154s 207ms/step - loss: 0.1882 - accuracy: 0.9058 - val_loss: 0.8623 - val_accuracy: 0.6967\n"
          ]
        },
        {
          "output_type": "execute_result",
          "data": {
            "text/plain": [
              "<keras.callbacks.History at 0x7f620c8ef210>"
            ]
          },
          "metadata": {},
          "execution_count": 107
        }
      ]
    },
    {
      "cell_type": "code",
      "source": [
        "from sklearn.metrics import confusion_matrix\n",
        "y_pred =(model.predict(X_test) > 0.5).astype(\"int32\")\n",
        "confusion_matrix(y_test,y_pred)"
      ],
      "metadata": {
        "colab": {
          "base_uri": "https://localhost:8080/"
        },
        "id": "q4TpXr0keIfe",
        "outputId": "55e8ed13-7fce-4ab9-871f-2bcb56416a6b"
      },
      "execution_count": null,
      "outputs": [
        {
          "output_type": "execute_result",
          "data": {
            "text/plain": [
              "array([[5080, 1633],\n",
              "       [1975, 3209]])"
            ]
          },
          "metadata": {},
          "execution_count": 108
        }
      ]
    },
    {
      "cell_type": "code",
      "source": [
        "from sklearn.metrics import accuracy_score\n",
        "accuracy_score(y_test,y_pred)"
      ],
      "metadata": {
        "colab": {
          "base_uri": "https://localhost:8080/"
        },
        "id": "2mFWlJJ-eROo",
        "outputId": "6dcbceaa-9764-490e-e1f3-6e7ed18955d8"
      },
      "execution_count": null,
      "outputs": [
        {
          "output_type": "execute_result",
          "data": {
            "text/plain": [
              "0.6967302681348239"
            ]
          },
          "metadata": {},
          "execution_count": 109
        }
      ]
    },
    {
      "cell_type": "code",
      "source": [
        "onehot_repr_pred=[one_hot(words,voc_size)for words in corpus_pred]\n",
        "sent_length=200\n",
        "embedded_docs_pred=pad_sequences(onehot_repr_pred,padding='pre',maxlen=sent_length)\n",
        "embedded_docs_pred.shape"
      ],
      "metadata": {
        "colab": {
          "base_uri": "https://localhost:8080/"
        },
        "id": "tC6Bnr-AjyX1",
        "outputId": "5fb6dd4b-e89d-44a2-b593-59869e6bfdca"
      },
      "execution_count": null,
      "outputs": [
        {
          "output_type": "execute_result",
          "data": {
            "text/plain": [
              "(11366, 200)"
            ]
          },
          "metadata": {},
          "execution_count": 110
        }
      ]
    },
    {
      "cell_type": "code",
      "source": [
        "pred_new=model.predict(embedded_docs_pred)"
      ],
      "metadata": {
        "id": "npmBSiUgj75J"
      },
      "execution_count": null,
      "outputs": []
    },
    {
      "cell_type": "code",
      "source": [
        "df_eng['topic_pred_prob'] = pred_new\n",
        "df_eng['topic_pred'] = [1 if y > 0.5 else 0 for y in pred_new]\n",
        "y_new_true = df_eng['topic']\n",
        "df_eng['topic_true'] = y_new_true\n",
        "df_eng"
      ],
      "metadata": {
        "colab": {
          "base_uri": "https://localhost:8080/",
          "height": 736
        },
        "id": "6mntvtwikN_r",
        "outputId": "1c528b1f-cec4-4037-d3b7-1edb1ad63397"
      },
      "execution_count": null,
      "outputs": [
        {
          "output_type": "stream",
          "name": "stderr",
          "text": [
            "/usr/local/lib/python3.7/dist-packages/ipykernel_launcher.py:1: SettingWithCopyWarning: \n",
            "A value is trying to be set on a copy of a slice from a DataFrame.\n",
            "Try using .loc[row_indexer,col_indexer] = value instead\n",
            "\n",
            "See the caveats in the documentation: https://pandas.pydata.org/pandas-docs/stable/user_guide/indexing.html#returning-a-view-versus-a-copy\n",
            "  \"\"\"Entry point for launching an IPython kernel.\n",
            "/usr/local/lib/python3.7/dist-packages/ipykernel_launcher.py:2: SettingWithCopyWarning: \n",
            "A value is trying to be set on a copy of a slice from a DataFrame.\n",
            "Try using .loc[row_indexer,col_indexer] = value instead\n",
            "\n",
            "See the caveats in the documentation: https://pandas.pydata.org/pandas-docs/stable/user_guide/indexing.html#returning-a-view-versus-a-copy\n",
            "  \n",
            "/usr/local/lib/python3.7/dist-packages/ipykernel_launcher.py:4: SettingWithCopyWarning: \n",
            "A value is trying to be set on a copy of a slice from a DataFrame.\n",
            "Try using .loc[row_indexer,col_indexer] = value instead\n",
            "\n",
            "See the caveats in the documentation: https://pandas.pydata.org/pandas-docs/stable/user_guide/indexing.html#returning-a-view-versus-a-copy\n",
            "  after removing the cwd from sys.path.\n"
          ]
        },
        {
          "output_type": "execute_result",
          "data": {
            "text/plain": [
              "            Id                                               text  topic  \\\n",
              "0      62525.0               Well, Anne and I are talking agai...      0   \n",
              "2      62527.0               OK, Monday.  No big deal, after t...      0   \n",
              "3      62528.0               I am at the office today.  My pri...      0   \n",
              "4      62529.0               That basically sums it up at the ...      0   \n",
              "13     62538.0               This is the new blog location for...      0   \n",
              "...        ...                                                ...    ...   \n",
              "11974  74499.0         Ah Wednesday that wonderful day of the ...      0   \n",
              "11975  74500.0         I had heard rumor that Google might be ...      0   \n",
              "11976  74501.0         The non-LDS make fun of the trademark U...      1   \n",
              "11977  74502.0         Who among us having served in the R.S. ...      1   \n",
              "11978  74503.0                PATRICIA'S SHORT SPEECH WORTH RE...      0   \n",
              "\n",
              "       topic_pred_logistic  topic_pred_prob  topic_pred  topic_true  \n",
              "0                        1         0.994556           1           0  \n",
              "2                        1         0.997754           1           0  \n",
              "3                        1         0.497662           0           0  \n",
              "4                        0         0.353546           0           0  \n",
              "13                       0         0.960261           1           0  \n",
              "...                    ...              ...         ...         ...  \n",
              "11974                    1         0.998482           1           0  \n",
              "11975                    1         0.998572           1           0  \n",
              "11976                    0         0.724120           1           1  \n",
              "11977                    0         0.998347           1           1  \n",
              "11978                    1         0.994381           1           0  \n",
              "\n",
              "[11366 rows x 7 columns]"
            ],
            "text/html": [
              "\n",
              "  <div id=\"df-0a131efd-734f-49b1-8c6c-32767989010e\">\n",
              "    <div class=\"colab-df-container\">\n",
              "      <div>\n",
              "<style scoped>\n",
              "    .dataframe tbody tr th:only-of-type {\n",
              "        vertical-align: middle;\n",
              "    }\n",
              "\n",
              "    .dataframe tbody tr th {\n",
              "        vertical-align: top;\n",
              "    }\n",
              "\n",
              "    .dataframe thead th {\n",
              "        text-align: right;\n",
              "    }\n",
              "</style>\n",
              "<table border=\"1\" class=\"dataframe\">\n",
              "  <thead>\n",
              "    <tr style=\"text-align: right;\">\n",
              "      <th></th>\n",
              "      <th>Id</th>\n",
              "      <th>text</th>\n",
              "      <th>topic</th>\n",
              "      <th>topic_pred_logistic</th>\n",
              "      <th>topic_pred_prob</th>\n",
              "      <th>topic_pred</th>\n",
              "      <th>topic_true</th>\n",
              "    </tr>\n",
              "  </thead>\n",
              "  <tbody>\n",
              "    <tr>\n",
              "      <th>0</th>\n",
              "      <td>62525.0</td>\n",
              "      <td>Well, Anne and I are talking agai...</td>\n",
              "      <td>0</td>\n",
              "      <td>1</td>\n",
              "      <td>0.994556</td>\n",
              "      <td>1</td>\n",
              "      <td>0</td>\n",
              "    </tr>\n",
              "    <tr>\n",
              "      <th>2</th>\n",
              "      <td>62527.0</td>\n",
              "      <td>OK, Monday.  No big deal, after t...</td>\n",
              "      <td>0</td>\n",
              "      <td>1</td>\n",
              "      <td>0.997754</td>\n",
              "      <td>1</td>\n",
              "      <td>0</td>\n",
              "    </tr>\n",
              "    <tr>\n",
              "      <th>3</th>\n",
              "      <td>62528.0</td>\n",
              "      <td>I am at the office today.  My pri...</td>\n",
              "      <td>0</td>\n",
              "      <td>1</td>\n",
              "      <td>0.497662</td>\n",
              "      <td>0</td>\n",
              "      <td>0</td>\n",
              "    </tr>\n",
              "    <tr>\n",
              "      <th>4</th>\n",
              "      <td>62529.0</td>\n",
              "      <td>That basically sums it up at the ...</td>\n",
              "      <td>0</td>\n",
              "      <td>0</td>\n",
              "      <td>0.353546</td>\n",
              "      <td>0</td>\n",
              "      <td>0</td>\n",
              "    </tr>\n",
              "    <tr>\n",
              "      <th>13</th>\n",
              "      <td>62538.0</td>\n",
              "      <td>This is the new blog location for...</td>\n",
              "      <td>0</td>\n",
              "      <td>0</td>\n",
              "      <td>0.960261</td>\n",
              "      <td>1</td>\n",
              "      <td>0</td>\n",
              "    </tr>\n",
              "    <tr>\n",
              "      <th>...</th>\n",
              "      <td>...</td>\n",
              "      <td>...</td>\n",
              "      <td>...</td>\n",
              "      <td>...</td>\n",
              "      <td>...</td>\n",
              "      <td>...</td>\n",
              "      <td>...</td>\n",
              "    </tr>\n",
              "    <tr>\n",
              "      <th>11974</th>\n",
              "      <td>74499.0</td>\n",
              "      <td>Ah Wednesday that wonderful day of the ...</td>\n",
              "      <td>0</td>\n",
              "      <td>1</td>\n",
              "      <td>0.998482</td>\n",
              "      <td>1</td>\n",
              "      <td>0</td>\n",
              "    </tr>\n",
              "    <tr>\n",
              "      <th>11975</th>\n",
              "      <td>74500.0</td>\n",
              "      <td>I had heard rumor that Google might be ...</td>\n",
              "      <td>0</td>\n",
              "      <td>1</td>\n",
              "      <td>0.998572</td>\n",
              "      <td>1</td>\n",
              "      <td>0</td>\n",
              "    </tr>\n",
              "    <tr>\n",
              "      <th>11976</th>\n",
              "      <td>74501.0</td>\n",
              "      <td>The non-LDS make fun of the trademark U...</td>\n",
              "      <td>1</td>\n",
              "      <td>0</td>\n",
              "      <td>0.724120</td>\n",
              "      <td>1</td>\n",
              "      <td>1</td>\n",
              "    </tr>\n",
              "    <tr>\n",
              "      <th>11977</th>\n",
              "      <td>74502.0</td>\n",
              "      <td>Who among us having served in the R.S. ...</td>\n",
              "      <td>1</td>\n",
              "      <td>0</td>\n",
              "      <td>0.998347</td>\n",
              "      <td>1</td>\n",
              "      <td>1</td>\n",
              "    </tr>\n",
              "    <tr>\n",
              "      <th>11978</th>\n",
              "      <td>74503.0</td>\n",
              "      <td>PATRICIA'S SHORT SPEECH WORTH RE...</td>\n",
              "      <td>0</td>\n",
              "      <td>1</td>\n",
              "      <td>0.994381</td>\n",
              "      <td>1</td>\n",
              "      <td>0</td>\n",
              "    </tr>\n",
              "  </tbody>\n",
              "</table>\n",
              "<p>11366 rows × 7 columns</p>\n",
              "</div>\n",
              "      <button class=\"colab-df-convert\" onclick=\"convertToInteractive('df-0a131efd-734f-49b1-8c6c-32767989010e')\"\n",
              "              title=\"Convert this dataframe to an interactive table.\"\n",
              "              style=\"display:none;\">\n",
              "        \n",
              "  <svg xmlns=\"http://www.w3.org/2000/svg\" height=\"24px\"viewBox=\"0 0 24 24\"\n",
              "       width=\"24px\">\n",
              "    <path d=\"M0 0h24v24H0V0z\" fill=\"none\"/>\n",
              "    <path d=\"M18.56 5.44l.94 2.06.94-2.06 2.06-.94-2.06-.94-.94-2.06-.94 2.06-2.06.94zm-11 1L8.5 8.5l.94-2.06 2.06-.94-2.06-.94L8.5 2.5l-.94 2.06-2.06.94zm10 10l.94 2.06.94-2.06 2.06-.94-2.06-.94-.94-2.06-.94 2.06-2.06.94z\"/><path d=\"M17.41 7.96l-1.37-1.37c-.4-.4-.92-.59-1.43-.59-.52 0-1.04.2-1.43.59L10.3 9.45l-7.72 7.72c-.78.78-.78 2.05 0 2.83L4 21.41c.39.39.9.59 1.41.59.51 0 1.02-.2 1.41-.59l7.78-7.78 2.81-2.81c.8-.78.8-2.07 0-2.86zM5.41 20L4 18.59l7.72-7.72 1.47 1.35L5.41 20z\"/>\n",
              "  </svg>\n",
              "      </button>\n",
              "      \n",
              "  <style>\n",
              "    .colab-df-container {\n",
              "      display:flex;\n",
              "      flex-wrap:wrap;\n",
              "      gap: 12px;\n",
              "    }\n",
              "\n",
              "    .colab-df-convert {\n",
              "      background-color: #E8F0FE;\n",
              "      border: none;\n",
              "      border-radius: 50%;\n",
              "      cursor: pointer;\n",
              "      display: none;\n",
              "      fill: #1967D2;\n",
              "      height: 32px;\n",
              "      padding: 0 0 0 0;\n",
              "      width: 32px;\n",
              "    }\n",
              "\n",
              "    .colab-df-convert:hover {\n",
              "      background-color: #E2EBFA;\n",
              "      box-shadow: 0px 1px 2px rgba(60, 64, 67, 0.3), 0px 1px 3px 1px rgba(60, 64, 67, 0.15);\n",
              "      fill: #174EA6;\n",
              "    }\n",
              "\n",
              "    [theme=dark] .colab-df-convert {\n",
              "      background-color: #3B4455;\n",
              "      fill: #D2E3FC;\n",
              "    }\n",
              "\n",
              "    [theme=dark] .colab-df-convert:hover {\n",
              "      background-color: #434B5C;\n",
              "      box-shadow: 0px 1px 3px 1px rgba(0, 0, 0, 0.15);\n",
              "      filter: drop-shadow(0px 1px 2px rgba(0, 0, 0, 0.3));\n",
              "      fill: #FFFFFF;\n",
              "    }\n",
              "  </style>\n",
              "\n",
              "      <script>\n",
              "        const buttonEl =\n",
              "          document.querySelector('#df-0a131efd-734f-49b1-8c6c-32767989010e button.colab-df-convert');\n",
              "        buttonEl.style.display =\n",
              "          google.colab.kernel.accessAllowed ? 'block' : 'none';\n",
              "\n",
              "        async function convertToInteractive(key) {\n",
              "          const element = document.querySelector('#df-0a131efd-734f-49b1-8c6c-32767989010e');\n",
              "          const dataTable =\n",
              "            await google.colab.kernel.invokeFunction('convertToInteractive',\n",
              "                                                     [key], {});\n",
              "          if (!dataTable) return;\n",
              "\n",
              "          const docLinkHtml = 'Like what you see? Visit the ' +\n",
              "            '<a target=\"_blank\" href=https://colab.research.google.com/notebooks/data_table.ipynb>data table notebook</a>'\n",
              "            + ' to learn more about interactive tables.';\n",
              "          element.innerHTML = '';\n",
              "          dataTable['output_type'] = 'display_data';\n",
              "          await google.colab.output.renderOutput(dataTable, element);\n",
              "          const docLink = document.createElement('div');\n",
              "          docLink.innerHTML = docLinkHtml;\n",
              "          element.appendChild(docLink);\n",
              "        }\n",
              "      </script>\n",
              "    </div>\n",
              "  </div>\n",
              "  "
            ]
          },
          "metadata": {},
          "execution_count": 112
        }
      ]
    },
    {
      "cell_type": "code",
      "source": [
        "from sklearn.metrics import accuracy_score\n",
        "accuracy_score(df_eng['topic'],df_eng['topic_pred']) #0.5516452577863804"
      ],
      "metadata": {
        "colab": {
          "base_uri": "https://localhost:8080/"
        },
        "id": "Rcj_QFpDoRIb",
        "outputId": "84323d8e-3f33-4eb4-9301-240108d4bc37"
      },
      "execution_count": null,
      "outputs": [
        {
          "output_type": "execute_result",
          "data": {
            "text/plain": [
              "0.5516452577863804"
            ]
          },
          "metadata": {},
          "execution_count": 113
        }
      ]
    }
  ]
}